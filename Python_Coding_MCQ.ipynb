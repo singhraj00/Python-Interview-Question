{
  "nbformat": 4,
  "nbformat_minor": 0,
  "metadata": {
    "colab": {
      "provenance": [],
      "authorship_tag": "ABX9TyNuX9cCkInFOjZNre3Njmeq",
      "include_colab_link": true
    },
    "kernelspec": {
      "name": "python3",
      "display_name": "Python 3"
    },
    "language_info": {
      "name": "python"
    }
  },
  "cells": [
    {
      "cell_type": "markdown",
      "metadata": {
        "id": "view-in-github",
        "colab_type": "text"
      },
      "source": [
        "<a href=\"https://colab.research.google.com/github/singhraj00/Python-Interview-Question/blob/main/Python_Coding_MCQ.ipynb\" target=\"_parent\"><img src=\"https://colab.research.google.com/assets/colab-badge.svg\" alt=\"Open In Colab\"/></a>"
      ]
    },
    {
      "cell_type": "markdown",
      "source": [
        "## 1. Mutable Default Argument"
      ],
      "metadata": {
        "id": "TPI8SUzx_dNP"
      }
    },
    {
      "cell_type": "code",
      "execution_count": null,
      "metadata": {
        "colab": {
          "base_uri": "https://localhost:8080/"
        },
        "collapsed": true,
        "id": "SYcfLSmB_ZSU",
        "outputId": "87489d48-e6bb-40f1-a27a-ec068631528c"
      },
      "outputs": [
        {
          "output_type": "stream",
          "name": "stdout",
          "text": [
            "[1]\n",
            "[1, 2]\n",
            "['a', 3]\n",
            "[1, 2, 4]\n"
          ]
        }
      ],
      "source": [
        "def add_item(item,my_list=[]):\n",
        "  my_list.append(item)\n",
        "  return my_list\n",
        "\n",
        "print(add_item(1))\n",
        "print(add_item(2))\n",
        "print(add_item(3,['a']))\n",
        "print(add_item(4))\n",
        "\n",
        "## predict output"
      ]
    },
    {
      "cell_type": "markdown",
      "source": [
        "## 2. Chained Comparison"
      ],
      "metadata": {
        "id": "QsdbPycS_56b"
      }
    },
    {
      "cell_type": "code",
      "source": [
        "x = 5\n",
        "\n",
        "print(1<x<10)\n",
        "print(10>x>3)\n",
        "print(10>x<3)\n",
        "\n",
        "## predict output"
      ],
      "metadata": {
        "colab": {
          "base_uri": "https://localhost:8080/"
        },
        "collapsed": true,
        "id": "0qNz1by2_wSL",
        "outputId": "ffa59dcd-f5b8-4be3-d4ca-2d32c98ddf66"
      },
      "execution_count": null,
      "outputs": [
        {
          "output_type": "stream",
          "name": "stdout",
          "text": [
            "True\n",
            "True\n",
            "False\n"
          ]
        }
      ]
    },
    {
      "cell_type": "markdown",
      "source": [
        "## 3. Python `is` vs `==`"
      ],
      "metadata": {
        "id": "i78Dm0dtATqI"
      }
    },
    {
      "cell_type": "code",
      "source": [
        "a = 256\n",
        "b = 256\n",
        "\n",
        "print(a is b)\n",
        "\n",
        "x = 257\n",
        "y = 257\n",
        "\n",
        "print(x is y)\n",
        "\n",
        "## predict output"
      ],
      "metadata": {
        "colab": {
          "base_uri": "https://localhost:8080/"
        },
        "collapsed": true,
        "id": "sspB8ziGAFKg",
        "outputId": "007acd84-274a-472e-d054-cb30c0f5db80"
      },
      "execution_count": null,
      "outputs": [
        {
          "output_type": "stream",
          "name": "stdout",
          "text": [
            "True\n",
            "False\n"
          ]
        }
      ]
    },
    {
      "cell_type": "markdown",
      "source": [
        "## 4. String Multiplication"
      ],
      "metadata": {
        "id": "ex09B0EbAkFE"
      }
    },
    {
      "cell_type": "code",
      "source": [
        "s = \"Python\"\n",
        "\n",
        "print(s * 0)\n",
        "print(s * -1)"
      ],
      "metadata": {
        "colab": {
          "base_uri": "https://localhost:8080/"
        },
        "collapsed": true,
        "id": "IkCPLoDQAnSR",
        "outputId": "4cc5665e-5671-401c-c991-20bc672687d4"
      },
      "execution_count": null,
      "outputs": [
        {
          "output_type": "stream",
          "name": "stdout",
          "text": [
            "\n",
            "\n"
          ]
        }
      ]
    },
    {
      "cell_type": "markdown",
      "source": [
        "## 5. List Multiplication"
      ],
      "metadata": {
        "id": "KTBZ6t4AAw59"
      }
    },
    {
      "cell_type": "code",
      "source": [
        "lst = [[0]*3]*3\n",
        "lst[0][0] = 1\n",
        "print(lst)"
      ],
      "metadata": {
        "colab": {
          "base_uri": "https://localhost:8080/"
        },
        "collapsed": true,
        "id": "aWfeeUaiAr9N",
        "outputId": "744415cd-c2b6-469b-ca77-206c1dc961c2"
      },
      "execution_count": null,
      "outputs": [
        {
          "output_type": "stream",
          "name": "stdout",
          "text": [
            "[[1, 0, 0], [1, 0, 0], [1, 0, 0]]\n"
          ]
        }
      ]
    },
    {
      "cell_type": "markdown",
      "source": [
        "## 6. Lambda and Late Binding"
      ],
      "metadata": {
        "id": "jskoRzsRA6WN"
      }
    },
    {
      "cell_type": "code",
      "source": [
        "funcs = [lambda x: x+i for i in range(3)]\n",
        "res = [f(0) for f in funcs]\n",
        "print(res)"
      ],
      "metadata": {
        "colab": {
          "base_uri": "https://localhost:8080/"
        },
        "collapsed": true,
        "id": "nmffkjXdA4eo",
        "outputId": "6741cbf5-29bf-4a7c-af81-4692d7fce199"
      },
      "execution_count": null,
      "outputs": [
        {
          "output_type": "stream",
          "name": "stdout",
          "text": [
            "[2, 2, 2]\n"
          ]
        }
      ]
    },
    {
      "cell_type": "code",
      "source": [
        "## Solutions\n",
        "funcs = [lambda x, i=i: x + i for i in range(3)]\n",
        "results = [f(0) for f in funcs]\n",
        "print(results)\n"
      ],
      "metadata": {
        "collapsed": true,
        "colab": {
          "base_uri": "https://localhost:8080/"
        },
        "id": "Gm0XukrLCs3A",
        "outputId": "b75f1dbf-5610-4832-a949-96471f79f520"
      },
      "execution_count": null,
      "outputs": [
        {
          "output_type": "stream",
          "name": "stdout",
          "text": [
            "[0, 1, 2]\n"
          ]
        }
      ]
    },
    {
      "cell_type": "markdown",
      "source": [
        "## 7. Set Vs List"
      ],
      "metadata": {
        "id": "ZMCEMxyPBnsO"
      }
    },
    {
      "cell_type": "code",
      "source": [
        "lst = [1,2,3,4,4,2]\n",
        "s = set(lst)\n",
        "print(s)"
      ],
      "metadata": {
        "colab": {
          "base_uri": "https://localhost:8080/"
        },
        "collapsed": true,
        "id": "A7li8jBoBHpH",
        "outputId": "79e4f399-5ba8-4cfe-ca6b-d351dbe8c9cf"
      },
      "execution_count": null,
      "outputs": [
        {
          "output_type": "stream",
          "name": "stdout",
          "text": [
            "{1, 2, 3, 4}\n"
          ]
        }
      ]
    },
    {
      "cell_type": "markdown",
      "source": [
        "## 8. Boolean Arithmetic"
      ],
      "metadata": {
        "id": "UL_uy65GBwIG"
      }
    },
    {
      "cell_type": "code",
      "source": [
        "print(True+True)\n",
        "print(True*10)\n",
        "print(False-True)"
      ],
      "metadata": {
        "colab": {
          "base_uri": "https://localhost:8080/"
        },
        "collapsed": true,
        "id": "JVsvgohgBusZ",
        "outputId": "40f836af-d04e-4418-9b71-63e23c152bfc"
      },
      "execution_count": null,
      "outputs": [
        {
          "output_type": "stream",
          "name": "stdout",
          "text": [
            "2\n",
            "10\n",
            "-1\n"
          ]
        }
      ]
    },
    {
      "cell_type": "markdown",
      "source": [
        "## 9. Dictionary Key Uniqueness"
      ],
      "metadata": {
        "id": "e3P4UKlBC0DT"
      }
    },
    {
      "cell_type": "code",
      "source": [
        "d = {[1,2]:\"value\"}\n",
        "# Output: Error\n",
        "## why?"
      ],
      "metadata": {
        "id": "DzrM6JqSC5el"
      },
      "execution_count": null,
      "outputs": []
    },
    {
      "cell_type": "markdown",
      "source": [
        "## 10. Floating Point Precision"
      ],
      "metadata": {
        "id": "lCcTa26-DJxX"
      }
    },
    {
      "cell_type": "code",
      "source": [
        "print(0.1+0.2==0.3)\n",
        "## predict output"
      ],
      "metadata": {
        "colab": {
          "base_uri": "https://localhost:8080/"
        },
        "collapsed": true,
        "id": "y6Fl_nbLDJHG",
        "outputId": "6a93f9a5-55f3-4528-be2d-ff9061d3e0dd"
      },
      "execution_count": null,
      "outputs": [
        {
          "output_type": "stream",
          "name": "stdout",
          "text": [
            "False\n",
            "0.30000000000000004\n",
            "False\n"
          ]
        }
      ]
    }
  ]
}