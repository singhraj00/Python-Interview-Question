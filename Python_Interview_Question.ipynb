{
  "nbformat": 4,
  "nbformat_minor": 0,
  "metadata": {
    "colab": {
      "provenance": [],
      "authorship_tag": "ABX9TyPHuS68T5zoPUUlm+lipxpB",
      "include_colab_link": true
    },
    "kernelspec": {
      "name": "python3",
      "display_name": "Python 3"
    },
    "language_info": {
      "name": "python"
    }
  },
  "cells": [
    {
      "cell_type": "markdown",
      "metadata": {
        "id": "view-in-github",
        "colab_type": "text"
      },
      "source": [
        "<a href=\"https://colab.research.google.com/github/singhraj00/Python-Interview-Question/blob/main/Python_Interview_Question.ipynb\" target=\"_parent\"><img src=\"https://colab.research.google.com/assets/colab-badge.svg\" alt=\"Open In Colab\"/></a>"
      ]
    },
    {
      "cell_type": "markdown",
      "source": [
        "## ✅ Problem Statement\n",
        "\n",
        "## Title: Capitalize and Reverse Specific Letters in a String\n",
        "\n",
        "Write a program that takes a string consisting of multiple words separated by spaces. For each word in the string, convert it such that:\n",
        "\n",
        "- The first and last letter of each word should be in uppercase.\n",
        "- All other letters should remain in lowercase.\n",
        "\n",
        "Return the modified string preserving the original spaces.\n",
        "\n",
        "\n",
        "## 📥 Input Format\n",
        "\n",
        "A single line containing a string `s` with lowercase letters and spaces.\n",
        "\n",
        "**Constraints:**\n",
        "\n",
        "- 1 ≤ length of s ≤ 1000\n",
        "\n",
        "\n",
        "## 📤 Output Format\n",
        "\n",
        "Print the transformed string as per the problem description.\n",
        "\n",
        "\n",
        "## 📌 Example\n",
        "\n",
        "**Input:**\n",
        "\n",
        "``ravi kumar singh``\n",
        "\n",
        "\n",
        "**Output:**\n",
        "\n",
        "``RavI KumaR SingH``\n",
        "\n",
        "## 📌 Explanation\n",
        "\n",
        "- The first word \"ravi\" → first letter 'r' → 'R', last letter 'i' → 'I' → \"RavI\"\n",
        "- The second word \"kumar\" → first 'k' → 'K', last 'r' → 'R' → \"KumaR\"\n",
        "- The third word \"singh\" → first 's' → 'S', last 'h' → 'H' → \"SingH\"\n",
        "\n",
        "\n",
        "## ✅ Constraints\n",
        "\n",
        "- The input string contains only lowercase letters and spaces.\n",
        "- Words are separated by a single space and there are no leading or trailing spaces.\n",
        "- Every word contains at least two characters.\n"
      ],
      "metadata": {
        "id": "ZiMtAi9PkTlB"
      }
    },
    {
      "cell_type": "markdown",
      "source": [
        "## Solution"
      ],
      "metadata": {
        "id": "EstbQjwomDYo"
      }
    },
    {
      "cell_type": "code",
      "source": [
        "def convert_string(text):\n",
        "  words = text.split()\n",
        "  print(words)\n",
        "  result = []\n",
        "  for word in words:\n",
        "    if len(word) > 1:\n",
        "      new_word = word[0].upper() + word[1:-1].lower() + word[-1].upper()\n",
        "    else:\n",
        "      new_word = word.upper()\n",
        "    result.append(new_word)\n",
        "  return \" \".join(result)\n",
        "\n",
        "\n",
        "convert_string(\"ravi kumar singh\")"
      ],
      "metadata": {
        "id": "_vqCXMeLmG1k",
        "colab": {
          "base_uri": "https://localhost:8080/",
          "height": 53
        },
        "outputId": "1dee079c-f6ae-42f8-945c-4603356db3eb"
      },
      "execution_count": null,
      "outputs": [
        {
          "output_type": "stream",
          "name": "stdout",
          "text": [
            "['ravi', 'kumar', 'singh']\n"
          ]
        },
        {
          "output_type": "execute_result",
          "data": {
            "text/plain": [
              "'RavI KumaR SingH'"
            ],
            "application/vnd.google.colaboratory.intrinsic+json": {
              "type": "string"
            }
          },
          "metadata": {},
          "execution_count": 3
        }
      ]
    },
    {
      "cell_type": "markdown",
      "source": [
        "## Alternative Solution"
      ],
      "metadata": {
        "id": "YXwsgG2Engrq"
      }
    },
    {
      "cell_type": "code",
      "source": [
        "s = \"ravi kumar singh\"\n",
        "result = \" \".join(w[0].upper() + w[1:-1].lower() + w[-1].upper() if len(w)>1 else w.upper() for w in s.split())\n",
        "print(result)"
      ],
      "metadata": {
        "id": "Fk42IMKNmG2-",
        "colab": {
          "base_uri": "https://localhost:8080/"
        },
        "outputId": "6bea89a4-7f50-4b99-fce6-c4add600983c"
      },
      "execution_count": null,
      "outputs": [
        {
          "output_type": "stream",
          "name": "stdout",
          "text": [
            "RavI KumaR SingH\n"
          ]
        }
      ]
    },
    {
      "cell_type": "markdown",
      "source": [
        "## 🔑 Common Interview Tricky Questions\n",
        "\n",
        "1. Small integers caching\n",
        "\n"
      ],
      "metadata": {
        "id": "NjxJ1O8FoCTD"
      }
    },
    {
      "cell_type": "code",
      "source": [
        "a = 100\n",
        "b = 100\n",
        "\n",
        "print(a is b)\n",
        "\n",
        "p = 1000\n",
        "q = 1000\n",
        "\n",
        "print(p is q)"
      ],
      "metadata": {
        "colab": {
          "base_uri": "https://localhost:8080/"
        },
        "id": "8DqQOWwQn5FP",
        "outputId": "fd0a7565-4ec6-48c7-a110-a510fa9b0d1f"
      },
      "execution_count": null,
      "outputs": [
        {
          "output_type": "stream",
          "name": "stdout",
          "text": [
            "True\n",
            "False\n"
          ]
        }
      ]
    },
    {
      "cell_type": "markdown",
      "source": [
        "## 👉 Why?\n",
        "- Python caches integers from -5 to 256 for performance.\n",
        "- So 100 is cached → both variables point to the same object.\n",
        "- 1000 is not cached → two different objects.\n"
      ],
      "metadata": {
        "id": "2D7SVb7toVol"
      }
    },
    {
      "cell_type": "markdown",
      "source": [
        "## 2. String interning"
      ],
      "metadata": {
        "id": "4CAuqytJoqTp"
      }
    },
    {
      "cell_type": "code",
      "source": [
        "a = \"hello\"\n",
        "b = \"hello\"\n",
        "\n",
        "print(a is b)\n",
        "\n",
        "p = \"Hello world!\"\n",
        "q = \"Hello world!\"\n",
        "\n",
        "print(p is q)"
      ],
      "metadata": {
        "colab": {
          "base_uri": "https://localhost:8080/"
        },
        "id": "8c1k0MA0oPVl",
        "outputId": "f20bc047-9685-4718-e880-284f38cc655b"
      },
      "execution_count": null,
      "outputs": [
        {
          "output_type": "stream",
          "name": "stdout",
          "text": [
            "True\n",
            "False\n"
          ]
        }
      ]
    },
    {
      "cell_type": "markdown",
      "source": [
        "## Explaination: **👉 Short strings and identifiers are interned (reused). But longer/dynamic strings may create new objects.**"
      ],
      "metadata": {
        "id": "mtnRKw0Jo8iz"
      }
    },
    {
      "cell_type": "markdown",
      "source": [
        "## 3. Using ``int()`` constructor"
      ],
      "metadata": {
        "id": "kWenMTHTpDxg"
      }
    },
    {
      "cell_type": "code",
      "source": [
        "a = int(\"100\")\n",
        "b = int(\"100\")\n",
        "\n",
        "print(a is b)\n",
        "\n",
        "p = int(\"1000\")\n",
        "q = int(\"1000\")\n",
        "\n",
        "print(p is q)"
      ],
      "metadata": {
        "colab": {
          "base_uri": "https://localhost:8080/"
        },
        "id": "lz3isg1LpN_5",
        "outputId": "415b75db-85fb-4630-a209-3812cab7b330"
      },
      "execution_count": null,
      "outputs": [
        {
          "output_type": "stream",
          "name": "stdout",
          "text": [
            "True\n",
            "False\n"
          ]
        }
      ]
    },
    {
      "cell_type": "markdown",
      "source": [
        "## 4. Lists/Mutable objects"
      ],
      "metadata": {
        "id": "W24KNs40pYAA"
      }
    },
    {
      "cell_type": "code",
      "source": [
        "a = [1,2,3]\n",
        "b = [1,2,3]\n",
        "\n",
        "print(a == b)  # True (values same)\n",
        "print(a is b) # False (different objects)"
      ],
      "metadata": {
        "colab": {
          "base_uri": "https://localhost:8080/"
        },
        "id": "E5PH8e0MpWay",
        "outputId": "ce6d6007-d8b3-4ff5-c5bb-2e389a0a6731"
      },
      "execution_count": null,
      "outputs": [
        {
          "output_type": "stream",
          "name": "stdout",
          "text": [
            "True\n",
            "False\n"
          ]
        }
      ]
    },
    {
      "cell_type": "markdown",
      "source": [
        "## 5. Singleton Objects"
      ],
      "metadata": {
        "id": "g2VmeXHEptVH"
      }
    },
    {
      "cell_type": "code",
      "source": [
        "a = None\n",
        "b = None\n",
        "\n",
        "print(a is b)    # True (None is singleton)\n",
        "\n",
        "p = True\n",
        "q = True\n",
        "\n",
        "print(p is q)   # True (True/False are singletons)"
      ],
      "metadata": {
        "colab": {
          "base_uri": "https://localhost:8080/"
        },
        "id": "Kq3pLdUNpjE7",
        "outputId": "48e01769-f7f2-4055-f30b-acad569a65a4"
      },
      "execution_count": null,
      "outputs": [
        {
          "output_type": "stream",
          "name": "stdout",
          "text": [
            "True\n",
            "True\n"
          ]
        }
      ]
    },
    {
      "cell_type": "markdown",
      "source": [
        "## 🔑 Key Interview Takeaway\n",
        "\n",
        "- Use `==` for value comparison.\n",
        "\n",
        "- Use `is` only for identity checks (e.g., x is None).\n",
        "\n",
        "- Be aware of **Python optimizations** (`integer caching, string interning, singletons`)."
      ],
      "metadata": {
        "id": "2R-3bKmbqqHQ"
      }
    },
    {
      "cell_type": "markdown",
      "source": [
        "## Miscallenous\n",
        "\n",
        "### Q.**What will be the output of a = 1000; b = 1000; print(a is b)?**\n",
        "\n",
        "\n",
        "#### **It prints False because integers above 256 are not cached in Python. Even though values are equal, is checks identity, and these are two different objects.**"
      ],
      "metadata": {
        "id": "iH-PsCMUrQdY"
      }
    },
    {
      "cell_type": "markdown",
      "source": [
        "## 🔑 Example with Lists (Mutable)"
      ],
      "metadata": {
        "id": "9lkfklShryK8"
      }
    },
    {
      "cell_type": "code",
      "source": [
        "a = [1,2,3]\n",
        "b = [4,5,6]\n",
        "\n",
        "def modify_list(x,y):\n",
        "  x.append(100)\n",
        "  y = y + [200]\n",
        "  print(\"Inside function: \",x,y)\n",
        "\n",
        "modify_list(a,b)\n",
        "print(\"Outside function:\",a,b)"
      ],
      "metadata": {
        "colab": {
          "base_uri": "https://localhost:8080/"
        },
        "id": "y9ULtKH0r3ds",
        "outputId": "e61ba6ca-017f-4514-c59f-23846d1a89a9"
      },
      "execution_count": null,
      "outputs": [
        {
          "output_type": "stream",
          "name": "stdout",
          "text": [
            "Inside function:  [1, 2, 3, 100] [4, 5, 6, 200]\n",
            "Outside function: [1, 2, 3, 100] [4, 5, 6]\n"
          ]
        }
      ]
    },
    {
      "cell_type": "markdown",
      "source": [
        "## 👉 Here you clearly see the difference:\n",
        "\n",
        "- `x.append(100) →` modifies original a.\n",
        "\n",
        "- `y = y + [200] →` creates a new list object for local y, original b stays unchanged.\n",
        "\n",
        "## ✅ **Interview-ready explanation:**\n",
        "\n",
        "- **Immutable objects (int, str, tuple):** You can’t change them in place; operations always create new objects.\n",
        "\n",
        "- **Mutable objects (list, dict, set):** Can be changed in place; modifications inside a function affect the caller.\n",
        "\n",
        "- **Reassignment (y = ...):** always makes the variable point to a new object, so it doesn’t affect the original reference outside the function."
      ],
      "metadata": {
        "id": "-uYMEoeRsg5Q"
      }
    },
    {
      "cell_type": "markdown",
      "source": [
        "## Python Memory Allocation\n",
        "\n",
        "### 🔑 1. Everything in Python is an Object\n",
        "\n",
        "- Numbers, Strings, Lists, Functions→ all objects.\n",
        "- Each objets has:\n",
        "  - Type (e.g., int,str,list)\n",
        "  - Value\n",
        "  - Reference count (how many variables are point to it)\n",
        "\n",
        "###🔑 2. Memory Allocation\n",
        "- Python uses a **private heap space** to store all objects.\n",
        "- The python memory manager handles object allocation and deallocation.\n",
        "- Small objects (like integres -5 to 256, short strings) are cached/reused for performance (that's why `a=100; b=100; a is b → True`)\n",
        "\n",
        "## 🔑 3. Reference Counting (Primary Garbage Collection)\n",
        "\n",
        "- Python keeps track of how many references points to an objects.\n",
        "- When reference count → 0 → object is deleted automatically."
      ],
      "metadata": {
        "id": "ha2toyVUtIzy"
      }
    },
    {
      "cell_type": "code",
      "source": [
        "import sys\n",
        "a = [1,2,3]\n",
        "\n",
        "print(sys.getrefcount(a))\n",
        "\n",
        "b = a\n",
        "\n",
        "print(sys.getrefcount(a))\n",
        "\n",
        "del b\n",
        "\n",
        "print(sys.getrefcount(a))"
      ],
      "metadata": {
        "colab": {
          "base_uri": "https://localhost:8080/"
        },
        "id": "Lk5w34QhuJuv",
        "outputId": "de29be74-a708-4266-b685-296cce0338ad"
      },
      "execution_count": null,
      "outputs": [
        {
          "output_type": "stream",
          "name": "stdout",
          "text": [
            "2\n",
            "3\n",
            "2\n"
          ]
        }
      ]
    },
    {
      "cell_type": "markdown",
      "source": [
        "### 🔑 4. Garbage Collector (Cyclic GC)\n",
        "- Reference counting can’t handle circular references (e.g., object A refers to B, and B refers to A).\n",
        "\n",
        "- Python has a cyclic garbage collector that runs periodically to detect and clean cycles\n",
        "\n",
        "### 🔑 5. Memory Pools (PyMalloc)\n",
        "- Python doesn’t ask OS for memory for every object (too slow).\n",
        "\n",
        "- Instead, it uses a system called PyMalloc:\n",
        "  - Divides memory into pools for small objects.\n",
        "  - Objects of the same size are reused efficiently.\n",
        "\n",
        "### 6. Immutable vs Mutable and Memory\n",
        "\n",
        "- **Immutable objects (int, str, tuple):** Once created, can’t be changed → new memory allocation happens for modifications.\n",
        "\n",
        "- **Mutable objects (list, dict, set):** Modified in place → memory reference stays same.\n"
      ],
      "metadata": {
        "id": "_mjeMQR5wr0B"
      }
    },
    {
      "cell_type": "code",
      "source": [
        "## Immutable Objects\n",
        "x = \"hello\"\n",
        "print(id(x))\n",
        "x+= \"world\" # new string created\n",
        "print(id(x)) # different memory address"
      ],
      "metadata": {
        "colab": {
          "base_uri": "https://localhost:8080/"
        },
        "id": "maDbXX-qv5L1",
        "outputId": "855294b2-5de1-4491-b060-a52489aa63bb"
      },
      "execution_count": null,
      "outputs": [
        {
          "output_type": "stream",
          "name": "stdout",
          "text": [
            "138616141448752\n",
            "138615197019248\n"
          ]
        }
      ]
    },
    {
      "cell_type": "code",
      "source": [
        "## Mutable Objects\n",
        "lst = [1,2,3]\n",
        "print(id(lst))\n",
        "lst.append(4) # modified in place\n",
        "print(id(lst)) # same memory address"
      ],
      "metadata": {
        "colab": {
          "base_uri": "https://localhost:8080/"
        },
        "id": "sbeApwXiv5Kj",
        "outputId": "543ab650-033c-4c64-d95d-7191cd508fdd"
      },
      "execution_count": null,
      "outputs": [
        {
          "output_type": "stream",
          "name": "stdout",
          "text": [
            "138615198362048\n",
            "138615198362048\n"
          ]
        }
      ]
    },
    {
      "cell_type": "markdown",
      "source": [
        "### 🔑 7. Memory Optimization Tricks Python Uses\n",
        "\n",
        "- **Interning:** Small integers and short strings are reused.\n",
        "\n",
        "- **Shared references:** Assignment doesn’t copy, it just points to the same object until modified (copy-on-write behavior).\n",
        "\n",
        "- **Garbage collection tuning:** You can manually run with `import gc; gc.collect()`.\n"
      ],
      "metadata": {
        "id": "VvtI-wshxvRW"
      }
    },
    {
      "cell_type": "markdown",
      "source": [
        "## 🔑 Interview-Ready One-liner\n",
        "\n",
        "*\"Python memory management uses a private heap managed by the interpreter, reference counting for immediate cleanup, and a cyclic garbage collector for circular references. Small objects are cached for performance, and PyMalloc handles allocation efficiently.\"*"
      ],
      "metadata": {
        "id": "WYJHw4oqxvPy"
      }
    },
    {
      "cell_type": "markdown",
      "source": [
        "## Decorators In Python\n",
        "\n",
        "## Q1: What are decorators in Python?\n",
        "\n",
        "*Decorators are higher-order functions that wrap another function or class to extend its behavior without changing its code. They’re widely used in Django, Flask, and DRF for auth, logging, and middleware-like functionality.*\n",
        "\n",
        "## Q2: Difference between function decorators and class decorators?\n",
        "\n",
        "- **Function decorator:** wraps a function.\n",
        "\n",
        "- **Class decorator:** modifies or enhances a class."
      ],
      "metadata": {
        "id": "JynTE3j41MQt"
      }
    },
    {
      "cell_type": "markdown",
      "source": [
        "## Example"
      ],
      "metadata": {
        "id": "g7jkzRe21yGE"
      }
    },
    {
      "cell_type": "code",
      "source": [
        "def class_decorator(cls):\n",
        "  cls.extra_attr = \"Added by Decorator\"\n",
        "  return cls\n",
        "\n",
        "@class_decorator\n",
        "class MyClass:\n",
        "  pass\n",
        "\n",
        "print(MyClass.extra_attr)"
      ],
      "metadata": {
        "colab": {
          "base_uri": "https://localhost:8080/"
        },
        "id": "YUl75Wv-xrOh",
        "outputId": "da1a17e2-3a83-4013-da64-7d21cd71e569"
      },
      "execution_count": null,
      "outputs": [
        {
          "output_type": "stream",
          "name": "stdout",
          "text": [
            "Added by Decorator\n"
          ]
        }
      ]
    },
    {
      "cell_type": "markdown",
      "source": [
        "## Q3: Can you write a decorator that measures execution time?"
      ],
      "metadata": {
        "id": "TYwS875o2CF0"
      }
    },
    {
      "cell_type": "code",
      "source": [
        "import time\n",
        "\n",
        "def timer(func):\n",
        "  def wrapper(*args,**kwargs):\n",
        "    start = time.time()\n",
        "    result = func(*args,**kwargs)\n",
        "    end = time.time()\n",
        "    print(f\"{func.__name__} took {end-start: .4f}s\")\n",
        "    return result\n",
        "  return wrapper\n",
        "\n",
        "@timer\n",
        "def slow_function():\n",
        "  time.sleep(2)\n",
        "\n",
        "slow_function()"
      ],
      "metadata": {
        "colab": {
          "base_uri": "https://localhost:8080/"
        },
        "id": "lokLlGA41_6f",
        "outputId": "ba212e63-170f-416c-98fe-bcdad7b04292"
      },
      "execution_count": null,
      "outputs": [
        {
          "output_type": "stream",
          "name": "stdout",
          "text": [
            "slow_function took  2.0002s\n"
          ]
        }
      ]
    },
    {
      "cell_type": "markdown",
      "source": [
        "## Q4: How does @staticmethod and @classmethod work?\n",
        "\n",
        "**They are built-in decorators:**\n",
        "\n",
        "- @staticmethod → doesn’t need self or cls.\n",
        "\n",
        "- @classmethod → gets class as first argument (cls)."
      ],
      "metadata": {
        "id": "yMqew62O2nuD"
      }
    },
    {
      "cell_type": "markdown",
      "source": [
        "## Q5: How do decorators work in Django/Flask?\n",
        "\n",
        "- Django:\n",
        "  - `@login_required`→ checks if user is authenticated.\n",
        "  - `@csrf_exempt` → disables CSRF for that view.\n",
        "- Flask:\n",
        "  - `@app.route(\"/path\")`→ maps URL to function."
      ],
      "metadata": {
        "id": "wbGdzqP92nsW"
      }
    },
    {
      "cell_type": "markdown",
      "source": [
        "## ⚡ Super-short definition for interview:\n",
        "\n",
        "*\"Decorators in Python are functions that wrap other functions or classes to add behavior dynamically, often used for logging, auth, and validation.\"*"
      ],
      "metadata": {
        "id": "hT59H3RY3NtU"
      }
    },
    {
      "cell_type": "markdown",
      "source": [
        "## 🔑 What is CSRF?\n",
        "- **CSRF (Cross-Site Request Forgery)** is an attack where a malicious website tricks a logged-in user’s browser to perform unwanted actions on a web application.\n",
        "\n",
        "- Example: User is logged into your bank → visits a malicious site → that site makes a transfer request without user’s consent.\n",
        "\n",
        "## 🔑 How CSRF Works (Backend Perspective)\n",
        "\n",
        "1. User logs in to `bank.com` → browser stores session cookie.\n",
        "2. User visits `malicious.com` → that site executes a form POST to `bank.com/transfer`\n",
        "3. Browser automatically includes session cookie → bank thinks request is legitimate.\n",
        "4. Action is performed without the user’s intention.\n",
        "\n",
        "## 🔑 How Django Prevents CSRF\n",
        "\n",
        "1. ## CSRF Token Generation\n",
        "   - Django generates a unique token for each session or request.\n",
        "   - Template tag `{% csrf_token %}` injects token into forms.\n",
        "\n",
        "2. ## Token Varification\n",
        "   - For POST/PUT/DELETE requests, Django checks if the request has a valid token.\n",
        "   - If token is missing/invalid → request rejected with 403 Forbidden.\n",
        "\n",
        "## 🔑 Example in Django Form\n",
        "\n",
        "```\n",
        "<form method=\"post\">\n",
        "    {% csrf_token %}\n",
        "    <input type=\"text\" name=\"amount\">\n",
        "    <button type=\"submit\">Transfer</button>\n",
        "</form>\n",
        "```\n",
        "\n",
        "- {% csrf_token %} → adds hidden input:\n",
        "\n",
        "```<input type=\"hidden\" name=\"csrfmiddlewaretoken\" value=\"abc123\">```\n",
        "\n",
        "- Backend View:\n",
        "\n",
        "```\n",
        "from django.views.decorators.csrf import csrf_protect\n",
        "\n",
        "@csrf_protect\n",
        "def transfer(request):\n",
        "    if request.method == \"POST\":\n",
        "        amount = request.POST.get(\"amount\")\n",
        "        # process transfer\n",
        "```\n",
        "\n",
        "## 🔑 Important Points for REST APIs\n",
        "\n",
        "- Traditional CSRF is mostly for browser-based forms.\n",
        "\n",
        "- REST APIs usually use token-based authentication (JWT, OAuth2) → no cookies → CSRF is less relevant.\n",
        "\n",
        "- If using cookies in REST APIs → enable CSRF protection (@csrf_exempt can be used to bypass if token auth is used instead)."
      ],
      "metadata": {
        "id": "ka1ZPHtD3ZPZ"
      }
    },
    {
      "cell_type": "markdown",
      "source": [
        "## 🔑 Interview One-liners\n",
        "\n",
        "1. *CSRF is a web attack where malicious sites make requests on behalf of a logged-in user.*\n",
        "\n",
        "2. *Django prevents CSRF using unique tokens verified for POST/PUT/DELETE requests.*\n",
        "\n",
        "3. *For REST APIs with token authentication, CSRF is generally not needed because requests are authenticated via headers, not cookies.*"
      ],
      "metadata": {
        "id": "wlgQNmLE3ZMw"
      }
    },
    {
      "cell_type": "markdown",
      "source": [
        "## What is Multithreading in Python?\n",
        "\n",
        "- Thread: a lightweight subprocess that shares the same memory space.\n",
        "- Multithreading: running multiple threads concurrently in the same process.\n",
        "- Python supports threading via the `threading` module."
      ],
      "metadata": {
        "id": "UGA-s_0c3ZKE"
      }
    },
    {
      "cell_type": "code",
      "source": [
        "import threading\n",
        "\n",
        "def print_numbers():\n",
        "  for i in range(5):\n",
        "    print(i)\n",
        "\n",
        "t1 = threading.Thread(target=print_numbers)\n",
        "t2 = threading.Thread(target=print_numbers)\n",
        "\n",
        "t1.start()\n",
        "\n",
        "t2.start()\n",
        "\n",
        "t1.join()\n",
        "\n",
        "t2.join()"
      ],
      "metadata": {
        "colab": {
          "base_uri": "https://localhost:8080/"
        },
        "id": "as-TLpzx2b66",
        "outputId": "fb7a947c-df49-4479-fbb3-c94fff9c8c71"
      },
      "execution_count": null,
      "outputs": [
        {
          "output_type": "stream",
          "name": "stdout",
          "text": [
            "0\n",
            "1\n",
            "2\n",
            "3\n",
            "4\n",
            "0\n",
            "1\n",
            "2\n",
            "3\n",
            "4\n"
          ]
        }
      ]
    },
    {
      "cell_type": "markdown",
      "source": [
        "## 🔑 2. Is Python Multithreading Safe?\n",
        "\n",
        "- Python has a Global Interpreter Lock (GIL):\n",
        "  - Only one thread executes Python bytecode at a time.\n",
        "  - Threads share memory → race conditions possible if mutable objects are modified without locks.\n",
        "\n",
        "- Thread safety depends on your code:\n",
        "  - Reading variables → safe.\n",
        "  - Writing/modifying shared variables → not safe without Lock."
      ],
      "metadata": {
        "id": "CFmC-o2A7J33"
      }
    },
    {
      "cell_type": "code",
      "source": [
        "## Example Unsafe Code\n",
        "import threading\n",
        "\n",
        "counter = 0\n",
        "\n",
        "def increment():\n",
        "  global counter\n",
        "  for _ in range(100000):\n",
        "    counter += 1\n",
        "\n",
        "t1 = threading.Thread(target=increment)\n",
        "t2 = threading.Thread(target=increment)\n",
        "\n",
        "t1.start(); t2.start()\n",
        "t1.join(); t2.join()\n",
        "\n",
        "print(counter)"
      ],
      "metadata": {
        "colab": {
          "base_uri": "https://localhost:8080/"
        },
        "id": "M7pGhnwq6yfk",
        "outputId": "4ca68558-88e3-4c1f-b4a3-eb56eb92530d"
      },
      "execution_count": null,
      "outputs": [
        {
          "output_type": "stream",
          "name": "stdout",
          "text": [
            "200000\n"
          ]
        }
      ]
    },
    {
      "cell_type": "markdown",
      "source": [
        "Fix : Using Local"
      ],
      "metadata": {
        "id": "gQMtEQ4I8dOu"
      }
    },
    {
      "cell_type": "code",
      "source": [
        "import threading\n",
        "\n",
        "counter = 0\n",
        "lock = threading.Lock()\n",
        "\n",
        "def increment():\n",
        "    global counter\n",
        "    for _ in range(100000):\n",
        "        with lock:   # acquire lock before updating\n",
        "            counter += 1\n",
        "\n",
        "t1 = threading.Thread(target=increment)\n",
        "t2 = threading.Thread(target=increment)\n",
        "t1.start(); t2.start()\n",
        "t1.join(); t2.join()\n",
        "\n",
        "print(counter)  # Will be 200000\n"
      ],
      "metadata": {
        "colab": {
          "base_uri": "https://localhost:8080/"
        },
        "id": "WgXJPs1S76Hw",
        "outputId": "f01df71d-3c01-465b-cef6-0f569163d4db"
      },
      "execution_count": null,
      "outputs": [
        {
          "output_type": "stream",
          "name": "stdout",
          "text": [
            "200000\n"
          ]
        }
      ]
    },
    {
      "cell_type": "markdown",
      "source": [
        "## 🔑 Interview One-liners\n",
        "\n",
        "- Python multithreading allows concurrent execution but is limited by the GIL; for CPU-bound tasks, multiprocessing is preferred.\n",
        "\n",
        "- Shared data in threads must be protected by locks to prevent race conditions.\n",
        "\n",
        "- Threading is mostly used for I/O-bound operations."
      ],
      "metadata": {
        "id": "FajlMDeO8yi0"
      }
    },
    {
      "cell_type": "markdown",
      "source": [
        "## 🔑 1. What is GIL (Global Interpreter Lock)?\n",
        "\n",
        "- GIL is a mutex in CPython (standard Python implementation) that allows only one thread to execute Python bytecode at a time.\n"
      ],
      "metadata": {
        "id": "xms1vdEy86cp"
      }
    },
    {
      "cell_type": "code",
      "source": [
        "import threading\n",
        "\n",
        "def cpu_task():\n",
        "    count = 0\n",
        "    for _ in range(10000000):\n",
        "        count += 1\n",
        "    print(\"Task done\")\n",
        "\n",
        "t1 = threading.Thread(target=cpu_task)\n",
        "t2 = threading.Thread(target=cpu_task)\n",
        "\n",
        "t1.start()\n",
        "t2.start()\n",
        "t1.join()\n",
        "t2.join()\n"
      ],
      "metadata": {
        "colab": {
          "base_uri": "https://localhost:8080/"
        },
        "id": "eYqy1OrF8iXH",
        "outputId": "ad1b3275-aa48-4602-ee88-6cdf8ddd0892"
      },
      "execution_count": null,
      "outputs": [
        {
          "output_type": "stream",
          "name": "stdout",
          "text": [
            "Task done\n",
            "Task done\n"
          ]
        }
      ]
    },
    {
      "cell_type": "markdown",
      "source": [
        "✅ Even though t1 & t2 are two threads, only one executes at a time due to GIL → CPU-bound tasks don’t get speedup."
      ],
      "metadata": {
        "id": "rTrMzDzj9KNr"
      }
    },
    {
      "cell_type": "markdown",
      "source": [
        "## 🔑 2. What is Race Condition?\n",
        "\n",
        "### Race Condition happens when two or more threads modify shared data at the same time, leading to unpredictable results.\n"
      ],
      "metadata": {
        "id": "A7aQppy09NGJ"
      }
    },
    {
      "cell_type": "code",
      "source": [
        "import threading\n",
        "\n",
        "counter = 0\n",
        "\n",
        "def increment():\n",
        "    global counter\n",
        "    for _ in range(100000):\n",
        "        counter += 1  # unsafe!\n",
        "\n",
        "t1 = threading.Thread(target=increment)\n",
        "t2 = threading.Thread(target=increment)\n",
        "\n",
        "t1.start()\n",
        "t2.start()\n",
        "t1.join()\n",
        "t2.join()\n",
        "\n",
        "print(counter)  # Might be < 200000 due to race condition\n"
      ],
      "metadata": {
        "colab": {
          "base_uri": "https://localhost:8080/"
        },
        "id": "dX9-eGRu9H9q",
        "outputId": "a66696c4-90fc-413e-aa38-8c8c5b0084a9"
      },
      "execution_count": null,
      "outputs": [
        {
          "output_type": "stream",
          "name": "stdout",
          "text": [
            "200000\n"
          ]
        }
      ]
    },
    {
      "cell_type": "markdown",
      "source": [
        "## Why?\n",
        "\n",
        "- Both threads read the counter at the same time → add 1 → write back → some increments get lost."
      ],
      "metadata": {
        "id": "u2ZV54Lq9Zfu"
      }
    },
    {
      "cell_type": "markdown",
      "source": [
        "## 🔑 4. Interview One-liners\n",
        "\n",
        "1. GIL ensures only one thread executes Python bytecode at a time, which prevents memory corruption but limits CPU-bound threading.\n",
        "\n",
        "2. Race condition occurs when multiple threads modify shared data simultaneously, leading to unpredictable results.\n",
        "\n",
        "3. Prevent race conditions using locks, semaphores, or thread-safe data structures.\n",
        "\n",
        "4. Threads are suitable for I/O-bound tasks, while multiprocessing is better for CPU-bound tasks."
      ],
      "metadata": {
        "id": "_c9NuYkZ9fIo"
      }
    },
    {
      "cell_type": "markdown",
      "source": [
        "## Mutithreading Vs Multiprocessing\n",
        "\n",
        "| Feature           | Multithreading                                                                   | Multiprocessing                                                               |\n",
        "| ----------------- | -------------------------------------------------------------------------------- | ----------------------------------------------------------------------------- |\n",
        "| **Definition**    | Multiple threads within a **single process** share memory.                       | Multiple processes, each with **its own memory space**.                       |\n",
        "| **Execution**     | Concurrent execution, but **GIL prevents true parallelism** for CPU-bound tasks. | True parallelism, each process runs independently on CPU cores.               |\n",
        "| **Memory**        | Shared memory → need locks for thread safety.                                    | Separate memory → no shared variables unless using special IPC (Queue, Pipe). |\n",
        "| **Best Use Case** | I/O-bound tasks (network, DB, file I/O).                                         | CPU-bound tasks (math, ML, image processing).                                 |\n",
        "| **Overhead**      | Low (lightweight threads).                                                       | Higher (new processes take more memory and CPU).                              |\n"
      ],
      "metadata": {
        "id": "khjnkkeW9wpt"
      }
    },
    {
      "cell_type": "markdown",
      "source": [
        "## 🔑 5. Key Points for Interview\n",
        "\n",
        "- GIL: Multithreading in Python is limited by GIL for CPU tasks; multiprocessing is not.\n",
        "\n",
        "- Memory: Threads share memory; processes have separate memory.\n",
        "\n",
        "- Overhead: Threads are lightweight; processes are heavier.\n",
        "\n",
        "### Use cases:\n",
        "\n",
        "- Threads → I/O-bound tasks\n",
        "\n",
        "- Processes → CPU-bound tasks\n",
        "\n",
        "- Communication: Threads → direct memory; Processes → IPC (Queue, Pipe)."
      ],
      "metadata": {
        "id": "KKaPTm8O-CPj"
      }
    },
    {
      "cell_type": "markdown",
      "source": [
        "## Always remembers this points\n",
        "\n",
        "1. Use multithreading for I/O-bound tasks because it allows concurrency with low overhead.”\n",
        "\n",
        "2. Use multiprocessing for CPU-bound tasks to achieve true parallelism and bypass GIL.”\n",
        "\n",
        "3. Threads share memory and may need locks; processes have separate memory spaces and communicate via IPC.”"
      ],
      "metadata": {
        "id": "OnNpmO-2-QuP"
      }
    },
    {
      "cell_type": "markdown",
      "source": [
        "## Parallelism Vs Concurreny\n",
        "\n",
        "| Term            | Meaning                                                                                      | Example Idea                                                       |\n",
        "| --------------- | -------------------------------------------------------------------------------------------- | ------------------------------------------------------------------ |\n",
        "| **Concurrency** | Handling **multiple tasks at the same time**, but **not necessarily simultaneously**.        | A single chef preparing multiple dishes by switching between them. |\n",
        "| **Parallelism** | Executing **multiple tasks literally at the same time**, using multiple cores or processors. | Multiple chefs cooking different dishes at the same time.          |\n"
      ],
      "metadata": {
        "id": "VpDWNbEn-cRQ"
      }
    },
    {
      "cell_type": "markdown",
      "source": [
        "## 🔑 3. Key Points for Interview\n",
        "\n",
        "- Concurrency = multiple tasks in progress at the same time (time-slicing).\n",
        "\n",
        "- Parallelism = multiple tasks executing literally at the same time.\n",
        "\n",
        "- Python threads → concurrency (GIL limits CPU-bound parallelism).\n",
        "\n",
        "- Python processes → parallelism (multiple CPU cores).\n",
        "\n",
        "- You can have concurrent parallelism: multiple tasks running concurrently and on multiple cores.\n",
        "\n",
        "## 🔑 4. One-line Explanation\n",
        "\n",
        "- Concurrency is about dealing with many things at once; parallelism is about doing many things at once.\n",
        "\n",
        "- Analogy: Single chef switching between dishes = concurrency, Multiple chefs cooking together = parallelism."
      ],
      "metadata": {
        "id": "H84B_6pc-okX"
      }
    }
  ]
}