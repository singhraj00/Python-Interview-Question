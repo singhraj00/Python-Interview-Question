{
  "nbformat": 4,
  "nbformat_minor": 0,
  "metadata": {
    "colab": {
      "provenance": [],
      "authorship_tag": "ABX9TyNzLwpvMu2w3gTDrO5jnwDa",
      "include_colab_link": true
    },
    "kernelspec": {
      "name": "python3",
      "display_name": "Python 3"
    },
    "language_info": {
      "name": "python"
    }
  },
  "cells": [
    {
      "cell_type": "markdown",
      "metadata": {
        "id": "view-in-github",
        "colab_type": "text"
      },
      "source": [
        "<a href=\"https://colab.research.google.com/github/singhraj00/Python-Interview-Question/blob/main/PythonQuestion.ipynb\" target=\"_parent\"><img src=\"https://colab.research.google.com/assets/colab-badge.svg\" alt=\"Open In Colab\"/></a>"
      ]
    },
    {
      "cell_type": "markdown",
      "source": [
        "## **Check Palindrome (String)**"
      ],
      "metadata": {
        "id": "Td3cdvjWWjbh"
      }
    },
    {
      "cell_type": "code",
      "execution_count": null,
      "metadata": {
        "colab": {
          "base_uri": "https://localhost:8080/"
        },
        "id": "JFlySwlWkqbB",
        "outputId": "0d2b53a5-50e9-4e91-bbee-c0b076079036",
        "collapsed": true
      },
      "outputs": [
        {
          "output_type": "stream",
          "name": "stdout",
          "text": [
            "True\n",
            "False\n"
          ]
        }
      ],
      "source": [
        "# Check Palindrome\n",
        "def is_palindrome(str):\n",
        "  return str == str[::-1]\n",
        "\n",
        "print(is_palindrome(\"madam\"))\n",
        "print(is_palindrome(\"madamas\"))"
      ]
    },
    {
      "cell_type": "markdown",
      "source": [
        "## **Remove Duplicates**"
      ],
      "metadata": {
        "id": "wNDh5UhhWscm"
      }
    },
    {
      "cell_type": "code",
      "source": [
        "## remove duplicates from list\n",
        "def remove_duplicates(list):\n",
        "  seen = set()\n",
        "  result = []\n",
        "  for item in list:\n",
        "    if item not in seen:\n",
        "      seen.add(item)\n",
        "      result.append(item)\n",
        "  return result\n",
        "\n",
        "remove_duplicates([1,1,2,2,3,3,4,4,5,5])"
      ],
      "metadata": {
        "colab": {
          "base_uri": "https://localhost:8080/"
        },
        "id": "dzZ4L7yzk3M_",
        "outputId": "80da9107-7f2f-4a1c-bcba-475d58eaa4b0",
        "collapsed": true
      },
      "execution_count": null,
      "outputs": [
        {
          "output_type": "execute_result",
          "data": {
            "text/plain": [
              "[1, 2, 3, 4, 5]"
            ]
          },
          "metadata": {},
          "execution_count": 4
        }
      ]
    },
    {
      "cell_type": "markdown",
      "source": [
        "## **Two Sum Problem**"
      ],
      "metadata": {
        "id": "_MWzqlqpWv6O"
      }
    },
    {
      "cell_type": "code",
      "source": [
        "## two sum - butal force o(n2)\n",
        "def two_sum(list,target):\n",
        "  n = len(list)\n",
        "  for i in range(n):\n",
        "    for j in range(i+1,n):\n",
        "      for k in range(i+2,n):\n",
        "        if list[i] + list[j]+ list[k] == target:\n",
        "          return [i,j,k]\n",
        "\n",
        "two_sum([2,5,7,11],14)"
      ],
      "metadata": {
        "colab": {
          "base_uri": "https://localhost:8080/"
        },
        "id": "GiDoBrPWl2me",
        "outputId": "a2a5ee69-3c90-405a-faab-030e7318514e",
        "collapsed": true
      },
      "execution_count": null,
      "outputs": [
        {
          "output_type": "execute_result",
          "data": {
            "text/plain": [
              "[0, 1, 2]"
            ]
          },
          "metadata": {},
          "execution_count": 35
        }
      ]
    },
    {
      "cell_type": "markdown",
      "source": [
        "## **Optimzed Approach - Two Sum**"
      ],
      "metadata": {
        "id": "iNuGtV12WzW7"
      }
    },
    {
      "cell_type": "code",
      "source": [
        "# two-sum optimized way o(n)\n",
        "def two_sum_opt(list,target):\n",
        "  seen = {}\n",
        "  for i,num in enumerate(list):\n",
        "    if target - num in seen:\n",
        "      return [seen[target-num],i]\n",
        "    seen[num] = i\n",
        "\n",
        "two_sum_opt([2,5,7,11],9)"
      ],
      "metadata": {
        "colab": {
          "base_uri": "https://localhost:8080/"
        },
        "id": "XE8pBlr0mX9k",
        "outputId": "78cf5860-8d56-4e4b-86a8-e3ff93982f71",
        "collapsed": true
      },
      "execution_count": null,
      "outputs": [
        {
          "output_type": "execute_result",
          "data": {
            "text/plain": [
              "[0, 2]"
            ]
          },
          "metadata": {},
          "execution_count": 38
        }
      ]
    },
    {
      "cell_type": "markdown",
      "source": [
        "## **Fibonnaci Generator**"
      ],
      "metadata": {
        "id": "EVSf78rXWX29"
      }
    },
    {
      "cell_type": "code",
      "source": [
        "## fib generator\n",
        "def fib_gen():\n",
        "  a,b = 0,1\n",
        "  while True:\n",
        "    yield a\n",
        "    a,b = b, a+b\n",
        "\n",
        "gen = fib_gen()\n",
        "\n",
        "for _ in range(10):\n",
        "  print(next(gen))"
      ],
      "metadata": {
        "colab": {
          "base_uri": "https://localhost:8080/"
        },
        "id": "44fp8XiPzCTv",
        "outputId": "054712de-ab2b-4ed3-f174-22a62375c886",
        "collapsed": true
      },
      "execution_count": null,
      "outputs": [
        {
          "output_type": "stream",
          "name": "stdout",
          "text": [
            "0\n",
            "1\n",
            "1\n",
            "2\n",
            "3\n",
            "5\n",
            "8\n",
            "13\n",
            "21\n",
            "34\n"
          ]
        }
      ]
    },
    {
      "cell_type": "markdown",
      "source": [
        "### **Fibonacci - Using Recusrsion**"
      ],
      "metadata": {
        "id": "M0qulDmRWdac"
      }
    },
    {
      "cell_type": "code",
      "source": [
        "## Using recursion\n",
        "def fib(n):\n",
        "  if n<=1:\n",
        "    return n\n",
        "  return fib(n-1)+fib(n-2)\n",
        "\n",
        "fib(5)"
      ],
      "metadata": {
        "colab": {
          "base_uri": "https://localhost:8080/"
        },
        "id": "dXlKv4nTz83R",
        "outputId": "dac276c3-d95e-497f-94b4-53a8b6fe653a",
        "collapsed": true
      },
      "execution_count": null,
      "outputs": [
        {
          "output_type": "execute_result",
          "data": {
            "text/plain": [
              "5"
            ]
          },
          "metadata": {},
          "execution_count": 33
        }
      ]
    },
    {
      "cell_type": "markdown",
      "source": [
        "## **Find Armstrong Number**"
      ],
      "metadata": {
        "id": "Fs7fPwYxWL3N"
      }
    },
    {
      "cell_type": "code",
      "source": [
        "def is_armstrong(num):\n",
        "  digits = str(num)\n",
        "  power = len(digits)\n",
        "  total = sum(int(d)**power for d in digits)\n",
        "  return total == num\n",
        "\n",
        "## test\n",
        "print(is_armstrong(153))\n",
        "print(is_armstrong(123))\n",
        "print(is_armstrong(9474))"
      ],
      "metadata": {
        "colab": {
          "base_uri": "https://localhost:8080/"
        },
        "id": "GSZxwD5Z1yOc",
        "outputId": "e515a5ed-3088-423b-b152-382244df8fcb",
        "collapsed": true
      },
      "execution_count": null,
      "outputs": [
        {
          "output_type": "stream",
          "name": "stdout",
          "text": [
            "True\n",
            "False\n",
            "True\n"
          ]
        }
      ]
    },
    {
      "cell_type": "markdown",
      "source": [
        "## **Armstrong IN Range**"
      ],
      "metadata": {
        "id": "VTAf_s2KWRTM"
      }
    },
    {
      "cell_type": "code",
      "source": [
        "def armstrong_in_range(low,high):\n",
        "  res = []\n",
        "  for num in range(low,high+1):\n",
        "    if is_armstrong(num):\n",
        "      res.append(num)\n",
        "  return res\n",
        "\n",
        "armstrong_in_range(100,1000)"
      ],
      "metadata": {
        "colab": {
          "base_uri": "https://localhost:8080/"
        },
        "id": "zbxaEyOY2XpO",
        "outputId": "5611cfbb-5207-4d10-e9f2-56393b394da3",
        "collapsed": true
      },
      "execution_count": null,
      "outputs": [
        {
          "output_type": "execute_result",
          "data": {
            "text/plain": [
              "[153, 370, 371, 407]"
            ]
          },
          "metadata": {},
          "execution_count": 41
        }
      ]
    },
    {
      "cell_type": "markdown",
      "source": [
        "## **Find Kth Largest Element**"
      ],
      "metadata": {
        "id": "LH_i-pAEWHbl"
      }
    },
    {
      "cell_type": "code",
      "source": [
        "# kth largest element\n",
        "def kth_largest(nums,k):\n",
        "  nums.sort()\n",
        "  return nums[-k]\n",
        "\n",
        "kth_largest([3,2,1,5,6,4],1)"
      ],
      "metadata": {
        "colab": {
          "base_uri": "https://localhost:8080/"
        },
        "id": "tvg_7cdK2Xqh",
        "outputId": "b26641c1-9775-48aa-bf3e-54cefb6b4f40",
        "collapsed": true
      },
      "execution_count": 1,
      "outputs": [
        {
          "output_type": "execute_result",
          "data": {
            "text/plain": [
              "6"
            ]
          },
          "metadata": {},
          "execution_count": 1
        }
      ]
    },
    {
      "cell_type": "markdown",
      "source": [
        "## **Find Factorial Of an given number**\n",
        "\n",
        "### **Method 1. Recursive Approach**"
      ],
      "metadata": {
        "id": "pZMrD_kKVKO0"
      }
    },
    {
      "cell_type": "code",
      "metadata": {
        "colab": {
          "base_uri": "https://localhost:8080/"
        },
        "id": "9ba92a1b",
        "outputId": "06d16625-5715-4841-dd60-3907e55e42f5"
      },
      "source": [
        "def factorial_recursive(n):\n",
        "  if n == 0:\n",
        "    return 1\n",
        "  else:\n",
        "    return n * factorial_recursive(n-1)\n",
        "\n",
        "print(factorial_recursive(5))"
      ],
      "execution_count": 4,
      "outputs": [
        {
          "output_type": "stream",
          "name": "stdout",
          "text": [
            "120\n"
          ]
        }
      ]
    },
    {
      "cell_type": "markdown",
      "source": [
        "### **Method 2. Iterative Way**"
      ],
      "metadata": {
        "id": "LpGdPlMhVzBE"
      }
    },
    {
      "cell_type": "code",
      "source": [
        "## factorial program -- iterative way\n",
        "def factorial_iterative(n):\n",
        "  result = 1\n",
        "  for i in  range(2,n+1):\n",
        "    result *= i\n",
        "  return result\n",
        "\n",
        "factorial_recursive(5)\n"
      ],
      "metadata": {
        "colab": {
          "base_uri": "https://localhost:8080/"
        },
        "id": "0cgXGg_dAtDV",
        "outputId": "b270871f-2c93-45af-aebc-67845703eedf",
        "collapsed": true
      },
      "execution_count": 5,
      "outputs": [
        {
          "output_type": "execute_result",
          "data": {
            "text/plain": [
              "120"
            ]
          },
          "metadata": {},
          "execution_count": 5
        }
      ]
    },
    {
      "cell_type": "markdown",
      "source": [
        "## **Find Max Element**"
      ],
      "metadata": {
        "id": "RxGCE0qXVDW_"
      }
    },
    {
      "cell_type": "code",
      "source": [
        "def find_max(arr):\n",
        "    max_num = arr[0]  # Assume the first element is the maximum\n",
        "    for num in arr:\n",
        "        if num > max_num:\n",
        "            max_num = num\n",
        "    return max_num\n",
        "\n",
        "\n",
        "find_max([3,4,57])"
      ],
      "metadata": {
        "colab": {
          "base_uri": "https://localhost:8080/"
        },
        "id": "K56lYRLZBMnA",
        "outputId": "8d5f60db-a3f6-4289-f4c7-eedf9c22699e",
        "collapsed": true
      },
      "execution_count": null,
      "outputs": [
        {
          "output_type": "execute_result",
          "data": {
            "text/plain": [
              "57"
            ]
          },
          "metadata": {},
          "execution_count": 48
        }
      ]
    },
    {
      "cell_type": "markdown",
      "source": [
        "### **Method 2. Built-in Method `max()`**"
      ],
      "metadata": {
        "id": "rRPik3cvV_X_"
      }
    },
    {
      "cell_type": "code",
      "source": [
        "# built in method\n",
        "max([3,4,57])"
      ],
      "metadata": {
        "colab": {
          "base_uri": "https://localhost:8080/"
        },
        "id": "pHxXe4Y5BdkX",
        "outputId": "b29955f4-68ff-45c2-ec68-655a87e2e16f",
        "collapsed": true
      },
      "execution_count": null,
      "outputs": [
        {
          "output_type": "execute_result",
          "data": {
            "text/plain": [
              "57"
            ]
          },
          "metadata": {},
          "execution_count": 49
        }
      ]
    },
    {
      "cell_type": "markdown",
      "source": [
        "## Tricky Advanced Question"
      ],
      "metadata": {
        "id": "fD-LtFP8Um_N"
      }
    },
    {
      "cell_type": "markdown",
      "source": [
        "## 1. **Implementation Of LRU Cache**\n",
        "\n",
        "# 🐍 LRU Cache Implementation\n",
        "\n",
        "## Problem Statement\n",
        "Design a **Least Recently Used (LRU) Cache** with the following operations:\n",
        "\n",
        "1. **get(key)** – Return the value of the key if it exists in the cache, otherwise return -1.\n",
        "2. **put(key, value)** – Insert or update the value of the key. If the cache exceeds its **capacity**, remove the **least recently used (LRU) key**.\n",
        "\n",
        "**Requirements:**\n",
        "- Both operations should run in **O(1)** time complexity.\n",
        "- Use Python’s built-in **OrderedDict** for efficient order tracking.\n",
        "\n",
        "---\n",
        "\n",
        "## Example:\n",
        "\n",
        "```python\n",
        "lru = LRUCache(2)   # capacity = 2\n",
        "lru.put(1,1)        # cache: {1:1}\n",
        "lru.put(2,2)        # cache: {1:1, 2:2}\n",
        "lru.get(1)          # returns 1, cache: {2:2, 1:1} (1 becomes most recently used)\n",
        "lru.put(3,3)        # removes least recently used key 2, cache: {1:1, 3:3}\n",
        "lru.get(2)          # returns -1 (2 was removed)\n",
        "lru.get(3)          # returns 3\n"
      ],
      "metadata": {
        "id": "2x_BUGK8U3UL"
      }
    },
    {
      "cell_type": "code",
      "source": [
        "from collections import OrderedDict\n",
        "\n",
        "class LRUCache:\n",
        "  def __init__(self,capacity):\n",
        "    self.cache = OrderedDict()\n",
        "    self.capacity = capacity\n",
        "\n",
        "  def get(self,key):\n",
        "    if key not in self.cache:\n",
        "      return -1\n",
        "    self.cache.move_to_end(key)\n",
        "    return self.cache[key]\n",
        "\n",
        "  def put(self,key,value):\n",
        "    if key in self.cache:\n",
        "      self.cache.move_to_end(key)\n",
        "    self.cache[key] = value\n",
        "    if len(self.cache) > self.capacity:\n",
        "      self.cache.popitem(last=False)\n",
        "\n",
        "## this this one\n",
        "lru = LRUCache(2)\n",
        "lru.put(1,1)\n",
        "lru.put(2,2)\n",
        "lru.get(1)\n",
        "lru.put(3,3)\n",
        "lru.get(3)"
      ],
      "metadata": {
        "colab": {
          "base_uri": "https://localhost:8080/"
        },
        "id": "8fbT_W-nUl74",
        "outputId": "01fbd635-b426-4333-bf5f-eb63da1f9ec2"
      },
      "execution_count": 2,
      "outputs": [
        {
          "output_type": "execute_result",
          "data": {
            "text/plain": [
              "3"
            ]
          },
          "metadata": {},
          "execution_count": 2
        }
      ]
    },
    {
      "cell_type": "markdown",
      "source": [
        "# 🔹 Step-by-Step Working\n",
        "\n",
        "1. **Initialization:**  \n",
        "   `lru = LRUCache(2)` → cache is empty, capacity = 2\n",
        "\n",
        "2. **Put (1,1):**  \n",
        "   - Add key 1 with value 1  \n",
        "   - Cache: `{1:1}`\n",
        "\n",
        "3. **Put (2,2):**  \n",
        "   - Add key 2 with value 2  \n",
        "   - Cache: `{1:1, 2:2}`\n",
        "\n",
        "4. **Get (1):**  \n",
        "   - Key 1 exists → return 1  \n",
        "   - Move key 1 to end to mark it as **most recently used**  \n",
        "   - Cache: `{2:2, 1:1}`\n",
        "\n",
        "5. **Put (3,3):**  \n",
        "   - Capacity exceeded (3 items)  \n",
        "   - Remove **least recently used key 2**  \n",
        "   - Add key 3 with value 3  \n",
        "   - Cache: `{1:1, 3:3}`\n",
        "\n",
        "6. **Get (2):**  \n",
        "   - Key 2 was removed → return -1\n",
        "\n",
        "7. **Get (3):**  \n",
        "   - Key 3 exists → return 3  \n",
        "   - Cache order updates to `{1:1, 3:3}`\n",
        "\n",
        "# ✅ Key Points\n",
        "\n",
        "- **OrderedDict** keeps keys in the order they were added.  \n",
        "- **move_to_end(key)** marks a key as most recently used.  \n",
        "- **popitem(last=False)** removes the first item (least recently used).  \n",
        "- Both **get** and **put** run in **O(1)** time.  \n",
        "- Capacity constraint ensures cache size never exceeds given limit.\n"
      ],
      "metadata": {
        "id": "xQc-ziPMXRaS"
      }
    },
    {
      "cell_type": "markdown",
      "source": [
        "## **2. longest sub string without repeating character**\n",
        "\n",
        "# 🐍 Longest Substring Without Repeating Characters\n",
        "\n",
        "## Problem Statement\n",
        "Given a string `s`, find the **length of the longest substring** without repeating characters.\n",
        "\n",
        "**Goal:**  \n",
        "- Identify the longest continuous segment of `s` where **all characters are unique**.\n",
        "\n",
        "---\n",
        "\n",
        "## Example:\n",
        "\n",
        "```python\n",
        "s = \"rahul rathour\"\n",
        "length_of_longest_substring(s)  # Output: 8\n"
      ],
      "metadata": {
        "id": "K6tH-F21UzRB"
      }
    },
    {
      "cell_type": "code",
      "source": [
        "\n",
        "def length_of_longest_substring(s):\n",
        "  seen = {}\n",
        "  left = 0\n",
        "  max_len = 0\n",
        "  for right, char in enumerate(s):\n",
        "    if char in seen and seen[char] >= left:\n",
        "      left = seen[char] + 1\n",
        "    else:\n",
        "      max_len = max(max_len, right - left + 1)\n",
        "    seen[char] = right\n",
        "  return max_len\n",
        "\n",
        "length_of_longest_substring(\"rahul rathour\")"
      ],
      "metadata": {
        "colab": {
          "base_uri": "https://localhost:8080/"
        },
        "id": "mO02IsO6UxGC",
        "outputId": "e9f62693-b291-4ab1-ec71-076ece8a791d"
      },
      "execution_count": 6,
      "outputs": [
        {
          "output_type": "execute_result",
          "data": {
            "text/plain": [
              "8"
            ]
          },
          "metadata": {},
          "execution_count": 6
        }
      ]
    },
    {
      "cell_type": "markdown",
      "source": [
        "# 🔹 Step-by-Step Working\n",
        "\n",
        "String: `\"rahul rathour\"`\n",
        "\n",
        "1. Initialize:\n",
        "   - `seen = {}`  \n",
        "   - `left = 0`  \n",
        "   - `max_len = 0`\n",
        "\n",
        "2. Iterate with `right` pointer:\n",
        "\n",
        "| Right | Char | Action                                                                 | Window (unique)   | max_len |\n",
        "|-------|------|------------------------------------------------------------------------|-----------------|---------|\n",
        "| 0     | r    | Not seen, add to seen                                                   | r               | 1       |\n",
        "| 1     | a    | Not seen, add to seen                                                   | ra              | 2       |\n",
        "| 2     | h    | Not seen, add to seen                                                   | rah             | 3       |\n",
        "| 3     | u    | Not seen, add to seen                                                   | rahu            | 4       |\n",
        "| 4     | l    | Not seen, add to seen                                                   | rahul           | 5       |\n",
        "| 5     | \" \"  | Space not seen, add to seen                                             | rahul \" \"       | 6       |\n",
        "| 6     | r    | Repeated, move `left=1` → window: ahul \" \" r                           | 6               |\n",
        "| 7     | a    | Repeated, move `left=2` → window: hul \" \" r a                           | 6               |\n",
        "| 8     | t    | Not seen, add to seen                                                   | hul \" \" r a t   | 7       |\n",
        "| 9     | h    | Repeated, move `left=3` → window: ul \" \" r a t h                        | 7       |\n",
        "| 10    | o    | Not seen, add to seen                                                   | ul \" \" r a t h o | 8 ✅     |\n",
        "| 11    | u    | Repeated, move `left=4` → window: l \" \" r a t h o u                     | 8       |\n",
        "| 12    | r    | Repeated, move `left=5` → window: \" \" r a t h o u r                     | 8       |\n",
        "\n",
        "3. **Result:** Maximum length without repeating characters = 8 (`\"l rathou\"`)\n",
        "\n",
        "\n",
        "# ✅ Key Points\n",
        "\n",
        "- Uses **sliding window technique** with `left` and `right` pointers.  \n",
        "- Dictionary `seen` stores the **last index** of each character for O(1) lookups.  \n",
        "- When a repeated character is found **inside the current window**, move `left` pointer **right after previous occurrence**.  \n",
        "- Update `max_len` at each step to track the longest substring.  \n",
        "- **Time Complexity:** O(n) – single pass through string  \n",
        "- **Space Complexity:** O(min(n, charset_size)) – store last seen index for characters\n"
      ],
      "metadata": {
        "id": "JkkbBRryYJRc"
      }
    }
  ]
}