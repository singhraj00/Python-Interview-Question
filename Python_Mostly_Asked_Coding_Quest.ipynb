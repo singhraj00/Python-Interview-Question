{
  "nbformat": 4,
  "nbformat_minor": 0,
  "metadata": {
    "colab": {
      "provenance": []
    },
    "kernelspec": {
      "name": "python3",
      "display_name": "Python 3"
    },
    "language_info": {
      "name": "python"
    }
  },
  "cells": [
    {
      "cell_type": "markdown",
      "source": [
        "#1. Reverse a string\n",
        "\n",
        "## Method 1. Slicing Approach"
      ],
      "metadata": {
        "id": "FjOHJ99Tp0sd"
      }
    },
    {
      "cell_type": "code",
      "source": [
        "def rev_string(text):\n",
        "  return text[::-1]\n",
        "\n",
        "rev_string('hello world!')"
      ],
      "metadata": {
        "colab": {
          "base_uri": "https://localhost:8080/",
          "height": 35
        },
        "id": "54-HDZFppwUm",
        "outputId": "63aeafcb-d531-4a31-f0dc-e1cb3e2359d6"
      },
      "execution_count": 2,
      "outputs": [
        {
          "output_type": "execute_result",
          "data": {
            "text/plain": [
              "'!dlrow olleh'"
            ],
            "application/vnd.google.colaboratory.intrinsic+json": {
              "type": "string"
            }
          },
          "metadata": {},
          "execution_count": 2
        }
      ]
    },
    {
      "cell_type": "markdown",
      "source": [
        "## Explaination\n",
        "\n",
        "- It uses Python’s `slicing `feature.\n",
        "\n",
        "- `text[::-1]` means reverse the string.\n",
        "\n",
        "- `Time Complexity: O(n)`\n",
        "\n",
        "- `Space Complexity: O(n)`\n",
        "\n",
        "- This is **efficient and clean.**"
      ],
      "metadata": {
        "id": "00aiivwfzKtq"
      }
    },
    {
      "cell_type": "markdown",
      "source": [],
      "metadata": {
        "id": "oDd02-dBzKr8"
      }
    },
    {
      "cell_type": "markdown",
      "source": [
        "## Method 2. Iterative Approach"
      ],
      "metadata": {
        "id": "lTvr-_0gtvHG"
      }
    },
    {
      "cell_type": "code",
      "source": [
        "## Alternative Approach\n",
        "def rev_string_alt(text):\n",
        "  result = ''\n",
        "  for char in text:\n",
        "    result = char + result\n",
        "  return result\n",
        "\n",
        "rev_string_alt('hello world!')"
      ],
      "metadata": {
        "colab": {
          "base_uri": "https://localhost:8080/",
          "height": 35
        },
        "id": "9UNIuQR8pwWB",
        "outputId": "a2165750-f81f-48aa-d595-643307bd1bc9"
      },
      "execution_count": 3,
      "outputs": [
        {
          "output_type": "execute_result",
          "data": {
            "text/plain": [
              "'!dlrow olleh'"
            ],
            "application/vnd.google.colaboratory.intrinsic+json": {
              "type": "string"
            }
          },
          "metadata": {},
          "execution_count": 3
        }
      ]
    },
    {
      "cell_type": "markdown",
      "source": [
        "## Example\n",
        "### For `'abc'`:\n",
        "\n",
        "- result = '', char = 'a' → result = 'a'\n",
        "\n",
        "- result = 'a', char = 'b' → result = 'b' + 'a' → 'ba'\n",
        "\n",
        "- result = 'ba', char = 'c' → result = 'c' + 'ba' → 'cba'\n",
        "\n",
        "## Explaination\n",
        "\n",
        "- It starts with an empty string.\n",
        "\n",
        "- It adds each character at the beginning.\n",
        "\n",
        "- `Time Complexity: O(n²)` because of repeated concatenations.\n",
        "\n",
        "- `Space Complexity: O(n)`\n",
        "\n",
        "- This is inefficient for large strings."
      ],
      "metadata": {
        "id": "HkVdIWjcxjtC"
      }
    },
    {
      "cell_type": "markdown",
      "source": [
        "## Method 3. Recursive Approach"
      ],
      "metadata": {
        "id": "PBPW1TfDt4Wl"
      }
    },
    {
      "cell_type": "code",
      "source": [
        "def rev_string_rec(text):\n",
        "  if len(text)<=1:\n",
        "    return text\n",
        "  return text[-1] + rev_string_rec(text[:-1])\n",
        "\n",
        "rev_string_rec('hello world!')"
      ],
      "metadata": {
        "colab": {
          "base_uri": "https://localhost:8080/",
          "height": 35
        },
        "id": "6uFw2rTIqba4",
        "outputId": "1b3e1942-d115-45af-eaf6-091636f4c56b"
      },
      "execution_count": 5,
      "outputs": [
        {
          "output_type": "execute_result",
          "data": {
            "text/plain": [
              "'!dlrow olleh'"
            ],
            "application/vnd.google.colaboratory.intrinsic+json": {
              "type": "string"
            }
          },
          "metadata": {},
          "execution_count": 5
        }
      ]
    },
    {
      "cell_type": "markdown",
      "source": [
        "## Example\n",
        "\n",
        "### Example `'abc'`:\n",
        "\n",
        "- 'abc' → return 'c' + rev_string('ab')\n",
        "\n",
        "- 'ab' → return 'b' + rev_string('a')\n",
        "\n",
        "- 'a' → base case → return 'a'\n",
        "\n",
        "- combine → 'b' + 'a' → 'ba'\n",
        "\n",
        "- 'c' + 'ba' → `'cba'`\n",
        "\n",
        "## Explaination\n",
        "\n",
        "- It reverses by taking the last character and appending the recursive call for the rest.\n",
        "\n",
        "- `Time Complexity: O(n²)`, due to slicing.\n",
        "\n",
        "- `Space Complexity: O(n)`, due to recursion stack.\n",
        "\n",
        "- This is elegant but inefficient for large strings."
      ],
      "metadata": {
        "id": "fj5GrXzzyfFG"
      }
    },
    {
      "cell_type": "markdown",
      "source": [],
      "metadata": {
        "id": "5VmfBGI1yfC6"
      }
    },
    {
      "cell_type": "markdown",
      "source": [
        "# 2. Check if String is Palindrome"
      ],
      "metadata": {
        "id": "GMMsLWlyuDFu"
      }
    },
    {
      "cell_type": "markdown",
      "source": [
        "## Method 1. Clean and Compare"
      ],
      "metadata": {
        "id": "DLgeyfT_vFsY"
      }
    },
    {
      "cell_type": "code",
      "source": [
        "def is_palindrome(text):\n",
        "  cleaned = ''.join(char.lower() for char in text if char.isalnum())\n",
        "  return cleaned == cleaned[::-1]\n",
        "\n",
        "is_palindrome('racecar')"
      ],
      "metadata": {
        "colab": {
          "base_uri": "https://localhost:8080/",
          "height": 0
        },
        "id": "X5iqqvGPq8PN",
        "outputId": "fe28499d-3ce7-4e6d-925d-07b0d3e46bc6"
      },
      "execution_count": 7,
      "outputs": [
        {
          "output_type": "execute_result",
          "data": {
            "text/plain": [
              "True"
            ]
          },
          "metadata": {},
          "execution_count": 7
        }
      ]
    },
    {
      "cell_type": "markdown",
      "source": [
        "### Explanation:\n",
        "\n",
        "- First, clean the string: keep only alphanumeric characters, convert to lowercase\n",
        "- `char.isalnum()` checks if character is letter or digit\n",
        "- Compare cleaned string with its reverse\n",
        "- **Time Complexity:** O(n)\n",
        "- **Space Complexity:** O(n)"
      ],
      "metadata": {
        "id": "SWevdXW9ulJO"
      }
    },
    {
      "cell_type": "markdown",
      "source": [
        "## Method 2. Two Pointers"
      ],
      "metadata": {
        "id": "Xggn4xtDulID"
      }
    },
    {
      "cell_type": "code",
      "source": [
        "def is_palindrome_pt(text):\n",
        "  left,right = 0, len(text)-1\n",
        "  while left<right:\n",
        "    if text[left] != text[right]:\n",
        "      return False\n",
        "    left += 1\n",
        "    right -= 1\n",
        "  return True\n",
        "\n",
        "is_palindrome_pt('racecar')"
      ],
      "metadata": {
        "colab": {
          "base_uri": "https://localhost:8080/",
          "height": 0
        },
        "id": "wjUb8WHMucXU",
        "outputId": "e155e3ff-cd2c-4190-cf3e-28547dd1c49f"
      },
      "execution_count": 11,
      "outputs": [
        {
          "output_type": "execute_result",
          "data": {
            "text/plain": [
              "True"
            ]
          },
          "metadata": {},
          "execution_count": 11
        }
      ]
    },
    {
      "cell_type": "markdown",
      "source": [
        "## ✅ Working – Example:\n",
        "\n",
        "### Input: `'racecar'`\n",
        "\n",
        "Step by step:\n",
        "\n",
        "1. left = 0 (r), right = 6 (r) → match → continue\n",
        "\n",
        "2. left = 1 (a), right = 5 (a) → match → continue\n",
        "\n",
        "3. left = 2 (c), right = 4 (c) → match → continue\n",
        "\n",
        "4. left = 3 (e), right = 3 (e) → pointers meet → return True\n",
        "\n",
        "### Input: `'hello'`\n",
        "\n",
        "- left = 0 (h), right = 4 (o) → mismatch → return\n",
        "\n",
        "## ✅ Time Complexity:\n",
        "\n",
        "- O(n) , where n = length of the string.\n",
        "- every character checked on once time only.\n",
        "\n",
        "## ✅ Space Complexity:\n",
        "\n",
        "- O(1) : no need to extra space (only for pointers)."
      ],
      "metadata": {
        "id": "q5riMxd2wN_8"
      }
    },
    {
      "cell_type": "markdown",
      "source": [
        "# Two Sum Problem"
      ],
      "metadata": {
        "id": "DAfdc96JwN-k"
      }
    },
    {
      "cell_type": "markdown",
      "source": [
        "## Method 1. Brute Force Approach"
      ],
      "metadata": {
        "id": "v3wi86cIz2jb"
      }
    },
    {
      "cell_type": "code",
      "source": [
        "def two_sum_brute(arr,target):\n",
        "  for i in range(len(arr)):\n",
        "    for j in range(i+1,len(arr)):\n",
        "      if arr[i] + arr[j] == target:\n",
        "        return [i,j]\n",
        "\n",
        "  return []\n",
        "\n",
        "two_sum_brute([2,7,11,15],18)"
      ],
      "metadata": {
        "colab": {
          "base_uri": "https://localhost:8080/",
          "height": 0
        },
        "id": "8SvH7F01z9rv",
        "outputId": "889c9b4e-6988-4b41-9d0b-66f9032b2abc"
      },
      "execution_count": 28,
      "outputs": [
        {
          "output_type": "execute_result",
          "data": {
            "text/plain": [
              "[1, 2]"
            ]
          },
          "metadata": {},
          "execution_count": 28
        }
      ]
    },
    {
      "cell_type": "markdown",
      "source": [
        "## ✅ Working – Example\n",
        "\n",
        "#### For `nums = [2, 7, 11, 15], target = 9`:\n",
        "\n",
        "- i = 0 → nums[0] = 2\n",
        "\n",
        "- j = 1 → nums[1] = 7 → 2 + 7 = 9 → ✅ match → return `[0, 1]`\n",
        "\n",
        "- The function stops once it finds the pair.\n",
        "\n",
        "## ✅ Complexity\n",
        "\n",
        "- `Time Complexity: O(n²)`, because it checks all pairs.\n",
        "\n",
        "- `Space Complexity: O(1)`, no extra space used apart from the result.\n",
        "\n",
        "**⚠ Works fine for small inputs but becomes slow for large arrays.**"
      ],
      "metadata": {
        "id": "i5iS0rkO0vil"
      }
    },
    {
      "cell_type": "markdown",
      "source": [
        "## Method 2. Optimized Approach ( Usinh Hash Map/Dictionary)\n"
      ],
      "metadata": {
        "id": "pZKiCw9G0vgk"
      }
    },
    {
      "cell_type": "code",
      "source": [
        "def two_sum_opt(arr,target):\n",
        "  seen = {}\n",
        "  for i , num in enumerate(arr):\n",
        "    complement = target - num\n",
        "    if complement in seen:\n",
        "      return [seen[complement],i]\n",
        "    seen[num]=i\n",
        "  return []\n",
        "\n",
        "two_sum_opt([2,7,11,15],18)"
      ],
      "metadata": {
        "colab": {
          "base_uri": "https://localhost:8080/",
          "height": 0
        },
        "id": "rb_KFRSfz9qR",
        "outputId": "55a4085d-0b39-42ea-e2f3-abf26dee8d21"
      },
      "execution_count": 26,
      "outputs": [
        {
          "output_type": "execute_result",
          "data": {
            "text/plain": [
              "[1, 2]"
            ]
          },
          "metadata": {},
          "execution_count": 26
        }
      ]
    },
    {
      "cell_type": "markdown",
      "source": [
        "## Working Example\n",
        "\n",
        "- For `nums = [2, 7, 11, 15], target = 9`:\n",
        "\n",
        "- i=0, num=2 → complement=7 → not seen → store {2:0}.\n",
        "\n",
        "- i=1, num=7 → complement=2 → found in map → return [0, 1].\n",
        "\n",
        "## Complexity\n",
        "\n",
        "- Time: O(n) (one pass).\n",
        "\n",
        "- Space: O(n) (hash map).\n",
        "- ✅ Very efficient for large inputs."
      ],
      "metadata": {
        "id": "qn39UPYp3p_p"
      }
    },
    {
      "cell_type": "markdown",
      "source": [
        "## FizzBuzz Problem"
      ],
      "metadata": {
        "id": "2yFgYky03-6-"
      }
    },
    {
      "cell_type": "code",
      "source": [
        "def fizzbuzz(n):\n",
        "  result = []\n",
        "  for i in range(1,n+1):\n",
        "    if i%15 == 0:\n",
        "      result.append(\"FizzBuzz\")\n",
        "    elif i%3 == 0:\n",
        "      result.append(\"Fizz\")\n",
        "    elif i%5 == 0:\n",
        "      result.append(\"Buzz\")\n",
        "    else:\n",
        "      result.append(str(i))\n",
        "  return result\n",
        "\n",
        "fizzbuzz(15)"
      ],
      "metadata": {
        "colab": {
          "base_uri": "https://localhost:8080/",
          "height": 0
        },
        "id": "9D4qeSi015cc",
        "outputId": "d6bd5761-34d2-4784-953c-3bd0ea65bab8"
      },
      "execution_count": 33,
      "outputs": [
        {
          "output_type": "execute_result",
          "data": {
            "text/plain": [
              "['1',\n",
              " '2',\n",
              " 'Fizz',\n",
              " '4',\n",
              " 'Buzz',\n",
              " 'Fizz',\n",
              " '7',\n",
              " '8',\n",
              " 'Fizz',\n",
              " 'Buzz',\n",
              " '11',\n",
              " 'Fizz',\n",
              " '13',\n",
              " '14',\n",
              " 'FizzBuzz']"
            ]
          },
          "metadata": {},
          "execution_count": 33
        }
      ]
    },
    {
      "cell_type": "markdown",
      "source": [
        "## Explanation:\n",
        "- Classic programming problem: replace multiples of 3  `\"Fizz\"`, multiples of 5 with `\"Buzz\"`\n",
        "- Check for 15 first (since 15 = 3×5, divisible by both) `\"FizzBuzz\"`\n",
        "- % operator gives remainder after division\n",
        "- `Time Complexity: O(n)`\n",
        "- `Space Complexity: O(n)` - storing results"
      ],
      "metadata": {
        "id": "-gi8i_KW4yf1"
      }
    },
    {
      "cell_type": "markdown",
      "source": [
        "## **5. Find Max Element**\n",
        "\n",
        "### **Method 1. Manual Iteration**"
      ],
      "metadata": {
        "id": "XFhKXneV5PW7"
      }
    },
    {
      "cell_type": "code",
      "source": [
        "def find_max(arr):\n",
        "  if not arr:\n",
        "    return None\n",
        "  max_val = arr[0]\n",
        "  for num in arr[1:]:\n",
        "    if num>max_val:\n",
        "      max_val = num\n",
        "  return max_val\n",
        "\n",
        "find_max([2,7,5,11])"
      ],
      "metadata": {
        "colab": {
          "base_uri": "https://localhost:8080/",
          "height": 0
        },
        "id": "H5BP3Viu4mwx",
        "outputId": "dcdda1b7-037d-4509-d303-b924eccb9f61"
      },
      "execution_count": 34,
      "outputs": [
        {
          "output_type": "execute_result",
          "data": {
            "text/plain": [
              "11"
            ]
          },
          "metadata": {},
          "execution_count": 34
        }
      ]
    },
    {
      "cell_type": "markdown",
      "source": [
        "## **Explaination:**\n",
        "- Start with first element as maximum\n",
        "- Compare each subsequent element\n",
        "- Update maximum when we find larger value\n",
        "- **Time Complexity: O(n)**\n",
        "- **Space Complexity: O(1)**"
      ],
      "metadata": {
        "id": "1SxxyP9w5vAX"
      }
    },
    {
      "cell_type": "markdown",
      "source": [
        "### **Method 2. Built-in Function**"
      ],
      "metadata": {
        "id": "Va19hsCl6GUa"
      }
    },
    {
      "cell_type": "code",
      "source": [
        "def find_max_builtin(arr):\n",
        "  return max(arr) if arr else None\n",
        "\n",
        "find_max_builtin([2,7,5,11])"
      ],
      "metadata": {
        "colab": {
          "base_uri": "https://localhost:8080/",
          "height": 0
        },
        "id": "2WXqtWhT5oUw",
        "outputId": "601366b9-4218-421d-968e-ae090e8ee28f"
      },
      "execution_count": 37,
      "outputs": [
        {
          "output_type": "execute_result",
          "data": {
            "text/plain": [
              "11"
            ]
          },
          "metadata": {},
          "execution_count": 37
        }
      ]
    },
    {
      "cell_type": "markdown",
      "source": [
        "## **Explaination:**\n",
        "- Uses Python's built-in `max()` function\n",
        "- Ternary operator handles empty array case\n",
        "- **Time Complexity: O(n)**\n",
        "- **Space Complexity: O(1)**"
      ],
      "metadata": {
        "id": "JPNwTLT26bX0"
      }
    },
    {
      "cell_type": "markdown",
      "source": [
        "## **6. Remove Duplicates**\n",
        "\n",
        "### **Method 1. Using Set (Order Not Preserved)**"
      ],
      "metadata": {
        "id": "NKAhFYOb6bWd"
      }
    },
    {
      "cell_type": "code",
      "source": [
        "def remove_duplicates(arr):\n",
        "  return list(set(arr))\n",
        "\n",
        "remove_duplicates([2,5,7,11,2,5,7])"
      ],
      "metadata": {
        "colab": {
          "base_uri": "https://localhost:8080/",
          "height": 0
        },
        "id": "WLxIUnwT6Pos",
        "outputId": "5890ed05-6f18-46fa-c7a0-0690c161a3d8"
      },
      "execution_count": 38,
      "outputs": [
        {
          "output_type": "execute_result",
          "data": {
            "text/plain": [
              "[2, 11, 5, 7]"
            ]
          },
          "metadata": {},
          "execution_count": 38
        }
      ]
    },
    {
      "cell_type": "markdown",
      "source": [
        "### **Explanation:**\n",
        "\n",
        "- Convert list to set (automatically removes duplicates)\n",
        "- Convert back to list\n",
        "- **Drawback:** Original order is lost\n",
        "- **Time Complexity: O(n)**\n",
        "- **Space Complexity: O(n)**"
      ],
      "metadata": {
        "id": "g3zCTxzG7BdQ"
      }
    },
    {
      "cell_type": "markdown",
      "source": [
        "### **Method 2. Preserve Order**"
      ],
      "metadata": {
        "id": "t2i_ffT07PEM"
      }
    },
    {
      "cell_type": "code",
      "source": [
        "def remove_duplicates_pre(arr):\n",
        "  seen = set()\n",
        "  result = []\n",
        "  for item in arr:\n",
        "    if item not in seen:\n",
        "      seen.add(item)\n",
        "      result.append(item)\n",
        "  return result\n",
        "\n",
        "remove_duplicates_pre([2,5,7,11,2,5,7])"
      ],
      "metadata": {
        "colab": {
          "base_uri": "https://localhost:8080/",
          "height": 0
        },
        "id": "d32cHofd6-CQ",
        "outputId": "0d5de6cc-436e-448f-881b-0b609107addd"
      },
      "execution_count": 39,
      "outputs": [
        {
          "output_type": "execute_result",
          "data": {
            "text/plain": [
              "[2, 5, 7, 11]"
            ]
          },
          "metadata": {},
          "execution_count": 39
        }
      ]
    },
    {
      "cell_type": "markdown",
      "source": [
        "### **Explanation:**\n",
        "\n",
        "- Maintain a set to track seen elements\n",
        "- Only add to result if we haven't seen the element before\n",
        "- Preserves original order of first occurrences\n",
        "- **Time Complexity: O(n)**\n",
        "- **Space Complexity: O(n)**"
      ],
      "metadata": {
        "id": "de_QldTE7xl_"
      }
    },
    {
      "cell_type": "markdown",
      "source": [
        "## **7. Fibonacci Sequence**\n",
        "\n",
        "### **Method 1: Recursive (Inefficient)**"
      ],
      "metadata": {
        "id": "LLazCoZl8R-U"
      }
    },
    {
      "cell_type": "code",
      "source": [
        "def fibonacci(n):\n",
        "  if n<=1:\n",
        "    return n\n",
        "  return fibonacci(n-1) + fibonacci(n-2)\n",
        "\n",
        "fibonacci(25)"
      ],
      "metadata": {
        "colab": {
          "base_uri": "https://localhost:8080/",
          "height": 0
        },
        "id": "STOhai2k7uj8",
        "outputId": "bf33942f-fc2d-47c5-f931-2e4254a06d38"
      },
      "execution_count": 46,
      "outputs": [
        {
          "output_type": "execute_result",
          "data": {
            "text/plain": [
              "75025"
            ]
          },
          "metadata": {},
          "execution_count": 46
        }
      ]
    },
    {
      "cell_type": "markdown",
      "source": [
        "### **Explanation:**\n",
        "\n",
        "- Classic recursive definition: `F(n) = F(n-1) + F(n-2)`\n",
        "- **Problem: Recalculates same values multiple times**\n",
        "- **Time Complexity: O(2^n) - exponential!**\n",
        "- **Space Complexity: O(n) - call stack depth**"
      ],
      "metadata": {
        "id": "IWVY7ECL83a3"
      }
    },
    {
      "cell_type": "markdown",
      "source": [
        "### **Method 2. Iterative (Efficient)**"
      ],
      "metadata": {
        "id": "f57X4Oam9Gt_"
      }
    },
    {
      "cell_type": "code",
      "source": [
        "def fibonacci_iter(n):\n",
        "  if n<=1:\n",
        "    return n\n",
        "  a,b = 0,1\n",
        "  for _ in range(2,n+1):\n",
        "    a,b = b, a+b\n",
        "  return b\n",
        "\n",
        "fibonacci_iter(25)\n"
      ],
      "metadata": {
        "colab": {
          "base_uri": "https://localhost:8080/",
          "height": 0
        },
        "id": "lbI5ivo59M-N",
        "outputId": "ce095ff9-f409-4485-d05b-ba2a90fe807f"
      },
      "execution_count": 47,
      "outputs": [
        {
          "output_type": "execute_result",
          "data": {
            "text/plain": [
              "75025"
            ]
          },
          "metadata": {},
          "execution_count": 47
        }
      ]
    },
    {
      "cell_type": "markdown",
      "source": [
        "### **Explanation:**\n",
        "\n",
        "- Keep track of only last two values\n",
        "- Update them iteratively:`new_a = old_b, new_b = old_a + old_b`\n",
        "- Python's tuple assignment makes this elegant\n",
        "- **Time Complexity: O(n)**\n",
        "- **Space Complexity: O(1)**"
      ],
      "metadata": {
        "id": "6WWuypN9-Fx5"
      }
    },
    {
      "cell_type": "markdown",
      "source": [
        "### **Method 3. Memoization (Top-Down DP)**"
      ],
      "metadata": {
        "id": "FrW5DnSV-FwS"
      }
    },
    {
      "cell_type": "code",
      "source": [
        "def fib_memo(n,memo={}):\n",
        "  if n in memo:\n",
        "    return memo[n]\n",
        "  if n<=1:\n",
        "    return n\n",
        "  memo[n] = fib_memo(n-1,memo) + fib_memo(n-2,memo)\n",
        "  return memo[n]\n",
        "\n",
        "fib_memo(50)"
      ],
      "metadata": {
        "colab": {
          "base_uri": "https://localhost:8080/",
          "height": 0
        },
        "id": "u8GjA9-Y9dRi",
        "outputId": "f4d229b5-5526-4a8a-a30a-2bcbc0f144e6"
      },
      "execution_count": 53,
      "outputs": [
        {
          "output_type": "execute_result",
          "data": {
            "text/plain": [
              "12586269025"
            ]
          },
          "metadata": {},
          "execution_count": 53
        }
      ]
    },
    {
      "cell_type": "markdown",
      "source": [
        "### **Explanation:**\n",
        "\n",
        "- Cache results to avoid recalculation\n",
        "- Warning: Using mutable default argument (memo={}) can cause issues\n",
        "- **Time Complexity: O(n)**\n",
        "- **Space Complexity: O(n)**"
      ],
      "metadata": {
        "id": "h3aw5ma2_O8N"
      }
    },
    {
      "cell_type": "markdown",
      "source": [
        "## **8. Check if  Number is Prime**"
      ],
      "metadata": {
        "id": "V1Wav7bk_hOd"
      }
    },
    {
      "cell_type": "code",
      "source": [
        "def is_prime(n):\n",
        "  if n<2:\n",
        "    return False\n",
        "  if n==2:\n",
        "    return True\n",
        "  if n%2 ==0:\n",
        "    return False\n",
        "\n",
        "  for i in range(3,int(n**0.5)+1,2):\n",
        "    if n%i ==0:\n",
        "      return False\n",
        "    return True"
      ],
      "metadata": {
        "id": "kKd3HcXn-x42"
      },
      "execution_count": 54,
      "outputs": []
    },
    {
      "cell_type": "markdown",
      "source": [
        "### **Examples:**\n",
        "\n",
        "#### **Example 1:**\n",
        "\n",
        "`print(is_prime(11))`\n",
        "\n",
        "- 11 > 2 → continue.\n",
        "\n",
        "- 11 is odd → continue.\n",
        "\n",
        "- Check i = 3 → 11 % 3 = 2 → not divisible.\n",
        "\n",
        "- √11 ≈ 3.3 → loop ends → return `True`.\n",
        "\n",
        "#### **Example 2:**\n",
        "\n",
        "`print(is_prime(25))`\n",
        "\n",
        "- 25 > 2 → continue.\n",
        "\n",
        "- 25 is odd → continue.\n",
        "\n",
        "- Check i = 3 → not divisible.\n",
        "\n",
        "- Check i = 5 → 25 % 5 = 0 → divisible → return `False`.\n",
        "\n",
        "### **Explanation:**\n",
        "\n",
        "- Key insight: If n has a divisor > √n, it must also have one ≤ √n\n",
        "- Skip even numbers after 2 for efficiency\n",
        "- Only check odd potential divisors\n",
        "- `range(3, int(n**0.5) + 1, 2)` generates 3, 5, 7, ... up to √n\n",
        "- **Time Complexity: O(√n)**, because we only check up to the square root of n.\n",
        "- **Space Complexity: O(1)**,only a few variables are used → constant extra space."
      ],
      "metadata": {
        "id": "oP8vkPzBBbZX"
      }
    },
    {
      "cell_type": "markdown",
      "source": [
        "## **9. Count Character Frequency**\n",
        "\n",
        "### **Method 1. Manual Dictionary**"
      ],
      "metadata": {
        "id": "zAEyvZnSCzR8"
      }
    },
    {
      "cell_type": "code",
      "source": [
        "def count_chars(s):\n",
        "  char_count={}\n",
        "  for char in s:\n",
        "    char_count[char] = char_count.get(char,0)+1\n",
        "  return char_count\n",
        "\n",
        "count_chars(\"rahul rathour\")"
      ],
      "metadata": {
        "colab": {
          "base_uri": "https://localhost:8080/",
          "height": 0
        },
        "id": "xRCk7JfbCycv",
        "outputId": "ff7d72aa-5fba-4c1a-b898-7af53431a651"
      },
      "execution_count": 55,
      "outputs": [
        {
          "output_type": "execute_result",
          "data": {
            "text/plain": [
              "{'r': 3, 'a': 2, 'h': 2, 'u': 2, 'l': 1, ' ': 1, 't': 1, 'o': 1}"
            ]
          },
          "metadata": {},
          "execution_count": 55
        }
      ]
    },
    {
      "cell_type": "markdown",
      "source": [
        "### **Explanation**:\n",
        "\n",
        "- `dict.get(key, default)` returns value for key, or default if key doesn't exist\n",
        "- Increment count for each character occurrence\n",
        "- **Time Complexity: O(n)**\n",
        "- **Space Complexity: O(k)** where k is number of unique characters\n",
        "\n"
      ],
      "metadata": {
        "id": "no4cL9OLDY36"
      }
    },
    {
      "cell_type": "markdown",
      "source": [
        "### **Method 2. Using Counter**"
      ],
      "metadata": {
        "id": "MkEWbnn0Dtb_"
      }
    },
    {
      "cell_type": "code",
      "source": [
        "from collections import Counter\n",
        "def count_chars_counter(s):\n",
        "  return dict(Counter(s))\n",
        "\n",
        "count_chars_counter(\"rahul rathour\")"
      ],
      "metadata": {
        "colab": {
          "base_uri": "https://localhost:8080/",
          "height": 0
        },
        "id": "S_8iFbU4AD-i",
        "outputId": "02493e67-62e5-4c47-cb10-09236255151b"
      },
      "execution_count": 56,
      "outputs": [
        {
          "output_type": "execute_result",
          "data": {
            "text/plain": [
              "{'r': 3, 'a': 2, 'h': 2, 'u': 2, 'l': 1, ' ': 1, 't': 1, 'o': 1}"
            ]
          },
          "metadata": {},
          "execution_count": 56
        }
      ]
    },
    {
      "cell_type": "markdown",
      "source": [
        "## **Explanation:**\n",
        "\n",
        "- `Counter` is a dictionary subclass designed for counting\n",
        "- More concise and Pythonic\n",
        "- **Time Complexity: O(n)**\n",
        "- **Space Complexity: O(k)**"
      ],
      "metadata": {
        "id": "ruPCPSodD93w"
      }
    },
    {
      "cell_type": "markdown",
      "source": [
        "## **10. Binary Search**\n",
        "\n",
        "# ✅ Binary Search\n",
        "\n",
        "Given a sorted list `arr` and a target value `target`, the goal is to find the index of `target` in `arr`.  \n",
        "If the target is not present in the list, return `-1`.\n",
        "\n",
        "Binary search works by repeatedly dividing the search space in half, making it much faster than linear search for large lists.\n",
        "\n",
        "### Example:\n",
        "- `arr = [1, 3, 5, 7, 9, 11, 13]`, `target = 7` → Output: `3`  \n",
        "- `arr = [1, 3, 5, 7, 9, 11, 13]`, `target = 8` → Output: `-1`\n",
        "\n"
      ],
      "metadata": {
        "id": "FQ39B6keD91-"
      }
    },
    {
      "cell_type": "code",
      "source": [
        "def binary_search(arr,target):\n",
        "  left,right=0,len(arr)-1\n",
        "\n",
        "  while left<=right:\n",
        "    mid = (left+right) // 2\n",
        "    if arr[mid] == target:\n",
        "      return mid\n",
        "    elif arr[mid] < target:\n",
        "      left = mid + 1\n",
        "    else:\n",
        "      right = mid - 1\n",
        "  return -1\n",
        "\n",
        "\n",
        "print(\"Index of 7:\",binary_search([1, 3, 5, 7, 9, 11, 13],target=7))\n",
        "print(\"Index of 8:\",binary_search([1, 3, 5, 7, 9, 11, 13],target=8))"
      ],
      "metadata": {
        "colab": {
          "base_uri": "https://localhost:8080/",
          "height": 0
        },
        "id": "KetViUHJD8QW",
        "outputId": "11447e97-2835-457c-b93c-3eb0a2be0264"
      },
      "execution_count": 65,
      "outputs": [
        {
          "output_type": "stream",
          "name": "stdout",
          "text": [
            "Index of 7: 3\n",
            "Index of 8: -1\n"
          ]
        }
      ]
    },
    {
      "cell_type": "markdown",
      "source": [
        "### ✅ Step-by-step Explanation\n",
        "\n",
        "1. **Initialize pointers**  \n",
        "   We start with `left = 0` and `right = len(arr) - 1`, covering the whole array.\n",
        "\n",
        "2. **Loop until pointers cross**  \n",
        "   The loop continues while `left <= right`, meaning there’s still a search space.\n",
        "\n",
        "3. **Find the middle element**  \n",
        "   `mid = (left + right) // 2` helps us find the center.\n",
        "\n",
        "4. **Check if the target is found**  \n",
        "   - If `arr[mid]` is equal to `target`, we return the index.\n",
        "\n",
        "5. **Adjust the search space**  \n",
        "   - If `arr[mid] < target`, the target is in the right half → move `left` to `mid + 1`.\n",
        "   - If `arr[mid] > target`, the target is in the left half → move `right` to `mid - 1`.\n",
        "\n",
        "6. **If the loop ends**  \n",
        "   If the target is not found after checking all possibilities → return `-1`.\n",
        "\n",
        "## ✅ Example Walkthrough\n",
        "\n",
        "### Example 1: Searching for `7` in `[1, 3, 5, 7, 9, 11, 13]`\n",
        "\n",
        "- Initial pointers → `left = 0`, `right = 6`\n",
        "\n",
        "**Step 1:**  \n",
        "- `mid = (0 + 6) // 2 = 3`, `arr[3] = 7`  \n",
        "- Found → return index `3`\n",
        "\n",
        "---\n",
        "\n",
        "### Example 2: Searching for `8` in `[1, 3, 5, 7, 9, 11, 13]`\n",
        "\n",
        "- Initial pointers → `left = 0`, `right = 6`\n",
        "\n",
        "**Step 1:**  \n",
        "- `mid = 3`, `arr[3] = 7`  \n",
        "- 7 < 8 → search right half → `left = 4`\n",
        "\n",
        "**Step 2:**  \n",
        "- `mid = (4 + 6) // 2 = 5`, `arr[5] = 11`  \n",
        "- 11 > 8 → search left half → `right = 4`\n",
        "\n",
        "**Step 3:**  \n",
        "- `mid = 4`, `arr[4] = 9`  \n",
        "- 9 > 8 → search left half → `right = 3`\n",
        "\n",
        "Now `left = 4`, `right = 3`, pointers crossed → return `-1` (target not found)\n",
        "\n",
        "\n",
        "### ✅ Time and Space Complexity\n",
        "\n",
        "- **Time complexity**: O(log n), where `n` is the length of the array.\n",
        "- **Space complexity**: O(1), because we only use a few extra variables.\n",
        "\n"
      ],
      "metadata": {
        "id": "9WRz2KNMFep6"
      }
    },
    {
      "cell_type": "markdown",
      "source": [
        "## **11. Valid Parenthesis**\n",
        "\n",
        "# ✅ Valid Parentheses Problem\n",
        "\n",
        "You are given a string `s` containing only the characters `'('`, `')'`, `'{'`, `'}'`, `'['`, `']'`.  \n",
        "The task is to check if the string is **valid**, meaning:\n",
        "\n",
        "1. Every opening bracket must be closed by the same type of bracket.\n",
        "2. Brackets must be closed in the correct order.\n",
        "\n",
        "### Example:\n",
        "- `\"()\"` → ✅ valid  \n",
        "- `\"()[]{}\"` → ✅ valid  \n",
        "- `\"(]\"` → ❌ invalid  \n",
        "- `\"([)]\"` → ❌ invalid  \n",
        "- `\"{[]}\"` → ✅ valid\n",
        "\n",
        "\n",
        "\n",
        "\n"
      ],
      "metadata": {
        "id": "8eGb4dNHGh3J"
      }
    },
    {
      "cell_type": "code",
      "source": [
        "def is_valid_parenthesis(s):\n",
        "  stack = []\n",
        "  mapping = {\n",
        "      \")\":\"(\",\n",
        "      \"}\":\"{\",\n",
        "      \"]\":\"[\"\n",
        "  }\n",
        "\n",
        "  for char in s:\n",
        "    if char in mapping:\n",
        "      if not stack or stack.pop() != mapping[char]:\n",
        "        return False\n",
        "      else:\n",
        "        stack.append(char)\n",
        "  return len(stack) ==0\n",
        "\n",
        "is_valid_parenthesis(\"[}[]]\")"
      ],
      "metadata": {
        "colab": {
          "base_uri": "https://localhost:8080/",
          "height": 0
        },
        "id": "ZqqSRPugEyDl",
        "outputId": "5f001b7a-710b-4da4-a739-884fc34ec2c4"
      },
      "execution_count": 59,
      "outputs": [
        {
          "output_type": "execute_result",
          "data": {
            "text/plain": [
              "False"
            ]
          },
          "metadata": {},
          "execution_count": 59
        }
      ]
    },
    {
      "cell_type": "markdown",
      "source": [
        "# ✅ Step-by-step Explanation\n",
        "\n",
        "1. **Initialize stack**  \n",
        "   We use a stack to store opening brackets.\n",
        "\n",
        "2. **Create a mapping dictionary**  \n",
        "   The `mapping` dictionary maps closing brackets to their corresponding opening brackets.\n",
        "\n",
        "3. **Iterate through the string**  \n",
        "   - If the character is a closing bracket:\n",
        "     - Check if the stack is empty → return `False`.\n",
        "     - Pop the last element and check if it matches → if not → return `False`.\n",
        "   - If the character is an opening bracket:\n",
        "     - Push it onto the stack.\n",
        "\n",
        "4. **Final check**  \n",
        "   After checking all characters, the stack must be empty if the brackets are valid.  \n",
        "   Return `True` if empty, otherwise `False`.\n",
        "\n",
        "\n",
        "# ✅ Example Walkthrough\n",
        "\n",
        "Let's walk through a few examples to understand how the algorithm works.\n",
        "\n",
        "### Example 1: `\"()[]{}\"`\n",
        "\n",
        "- Start with an empty stack: `[]`\n",
        "\n",
        "**Step 1** → char = `'('`  \n",
        "- It's an opening bracket → push → stack = `['(']`\n",
        "\n",
        "**Step 2** → char = `')'`  \n",
        "- It's a closing bracket → pop `'('` → matches → stack = `[]`\n",
        "\n",
        "**Step 3** → char = `'['`  \n",
        "- Opening → push → stack = `['[']`\n",
        "\n",
        "**Step 4** → char = `']'`  \n",
        "- Closing → pop `'['` → matches → stack = `[]`\n",
        "\n",
        "**Step 5** → char = `'{'`  \n",
        "- Opening → push → stack = `['{']`\n",
        "\n",
        "**Step 6** → char = `'}'`  \n",
        "- Closing → pop `'{'` → matches → stack = `[]`\n",
        "\n",
        "✔ Final stack is empty → return `True`\n",
        "\n",
        "---\n",
        "\n",
        "### Example 2: `\"([)]\"`\n",
        "\n",
        "- Start with an empty stack: `[]`\n",
        "\n",
        "**Step 1** → char = `'('`  \n",
        "- Opening → push → stack = `['(']`\n",
        "\n",
        "**Step 2** → char = `'['`  \n",
        "- Opening → push → stack = `['(', '[']`\n",
        "\n",
        "**Step 3** → char = `')'`  \n",
        "- Closing → pop `'['` → expected `'('` → mismatch  \n",
        "✔ Return `False`\n",
        "\n",
        "---\n",
        "\n",
        "### Example 3: `\"{[]}\"`\n",
        "\n",
        "- Start with an empty stack: `[]`\n",
        "\n",
        "**Step 1** → char = `'{'`  \n",
        "- Opening → push → stack = `['{']`\n",
        "\n",
        "**Step 2** → char = `'['`  \n",
        "- Opening → push → stack = `['{', '[']`\n",
        "\n",
        "**Step 3** → char = `']'`  \n",
        "- Closing → pop `'['` → matches → stack = `['{']`\n",
        "\n",
        "**Step 4** → char = `'}'`  \n",
        "- Closing → pop `'{'` → matches → stack = `[]`\n",
        "\n",
        "✔ Final stack is empty → return `True`\n",
        "\n",
        "\n",
        "\n",
        "\n",
        "# ✅ Time and Space Complexity\n",
        "\n",
        "- **Time complexity**: O(n), where n is the length of the string, because we check each character once.\n",
        "- **Space complexity**: O(n), in the worst case when all characters are opening brackets.\n"
      ],
      "metadata": {
        "id": "4BabzqYVJJu4"
      }
    },
    {
      "cell_type": "markdown",
      "source": [
        "## **12. Merge Two Sorted Lists**\n",
        "\n",
        "# ✅ Merge Two Sorted Lists\n",
        "\n",
        "Given two sorted lists, `list1` and `list2`, the task is to merge them into one sorted list.\n",
        "\n",
        "### Example:\n",
        "- `list1 = [1, 3, 5]`\n",
        "- `list2 = [2, 4, 6]`\n",
        "\n",
        "Output → `[1, 2, 3, 4, 5, 6]`\n"
      ],
      "metadata": {
        "id": "XcEdOzZeKa0I"
      }
    },
    {
      "cell_type": "code",
      "source": [
        "def merge_sorted_lists(list1,list2):\n",
        "  result = []\n",
        "  i=j=0  # pointer for list 1 and list2\n",
        "\n",
        "  # compare elements and add smaller one to result\n",
        "  while i < len(list1) and j< len(list2):\n",
        "    if list1[i] <= list2[j]:\n",
        "      result.append(list1[i])\n",
        "      i+=1\n",
        "    else:\n",
        "      result.append(list2[j])\n",
        "      j+=1\n",
        "\n",
        "  result.extend(list1[i:])\n",
        "  result.extend(list2[j:])\n",
        "  return result\n",
        "\n",
        "\n",
        "# Example run\n",
        "list1 = [1, 3, 5]\n",
        "list2 = [2, 4, 6]\n",
        "merged_list = merge_sorted_lists(list1, list2)\n",
        "print(\"Merged List:\", merged_list)\n"
      ],
      "metadata": {
        "colab": {
          "base_uri": "https://localhost:8080/",
          "height": 0
        },
        "id": "K2OipqSLHQTc",
        "outputId": "8d0a47eb-89f0-4bfe-b206-e1c7f93eac0e"
      },
      "execution_count": 63,
      "outputs": [
        {
          "output_type": "stream",
          "name": "stdout",
          "text": [
            "Merged List: [1, 2, 3, 4, 5, 6]\n"
          ]
        }
      ]
    },
    {
      "cell_type": "markdown",
      "source": [
        "# ✅ Step-by-step Explanation\n",
        "\n",
        "1. **Initialize the result list and pointers**  \n",
        "   We create an empty `result` list and two pointers `i` and `j` starting at the beginning of `list1` and `list2`.\n",
        "\n",
        "2. **Compare elements from both lists**  \n",
        "   We compare `list1[i]` and `list2[j]` at each step:\n",
        "   - If `list1[i]` is smaller or equal, add it to `result` and move pointer `i`.\n",
        "   - Otherwise, add `list2[j]` to `result` and move pointer `j`.\n",
        "\n",
        "3. **Handle leftover elements**  \n",
        "   After one list is fully traversed, add the remaining elements from the other list using `extend()`.\n",
        "\n",
        "4. **Return the merged result**  \n",
        "   Once all elements are processed, return the merged list.\n"
      ],
      "metadata": {
        "id": "VmCNTF60MdK3"
      }
    },
    {
      "cell_type": "markdown",
      "source": [
        "# ✅ Example Walkthrough\n",
        "\n",
        "Let's merge:\n",
        "\n",
        "`list1 = [1, 3, 5]`  \n",
        "`list2 = [2, 4, 6]`\n",
        "\n",
        "### Initial state:\n",
        "- `result = []`\n",
        "- `i = 0`, pointing at `1`\n",
        "- `j = 0`, pointing at `2`\n",
        "\n",
        "### Step 1 → Compare 1 and 2  \n",
        "- 1 <= 2 → add 1 → `result = [1]`, `i = 1`\n",
        "\n",
        "### Step 2 → Compare 3 and 2  \n",
        "- 3 > 2 → add 2 → `result = [1, 2]`, `j = 1`\n",
        "\n",
        "### Step 3 → Compare 3 and 4  \n",
        "- 3 <= 4 → add 3 → `result = [1, 2, 3]`, `i = 2`\n",
        "\n",
        "### Step 4 → Compare 5 and 4  \n",
        "- 5 > 4 → add 4 → `result = [1, 2, 3, 4]`, `j = 2`\n",
        "\n",
        "### Step 5 → Compare 5 and 6  \n",
        "- 5 <= 6 → add 5 → `result = [1, 2, 3, 4, 5]`, `i = 3`\n",
        "\n",
        "### Final step → Add remaining elements  \n",
        "- `list1` finished → nothing left  \n",
        "- `list2` has `6` → add → `result = [1, 2, 3, 4, 5, 6]`\n",
        "\n",
        "✔ Final output: `[1, 2, 3, 4, 5, 6]`\n"
      ],
      "metadata": {
        "id": "d-udcrCBMdIm"
      }
    },
    {
      "cell_type": "markdown",
      "source": [
        "# ✅ Time and Space Complexity\n",
        "\n",
        "- **Time complexity**: O(n + m), where `n` and `m` are the lengths of `list1` and `list2`.\n",
        "- **Space complexity**: O(n + m), because we create a new list to store the merged result.\n"
      ],
      "metadata": {
        "id": "7m5sqK9LMiOI"
      }
    }
  ]
}